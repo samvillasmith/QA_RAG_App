{
 "cells": [
  {
   "cell_type": "markdown",
   "id": "19c2b75e",
   "metadata": {},
   "source": [
    "# Question Answering Project\n",
    "This project involves building a question answering system using a pre-trained language model. The system will take a context passage and a question as input and generate an answer based on the provided context."
   ]
  },
  {
   "cell_type": "code",
   "execution_count": 1,
   "id": "aa768a3c",
   "metadata": {},
   "outputs": [],
   "source": [
    "from dotenv import load_dotenv, find_dotenv\n",
    "import os\n",
    "load_dotenv(find_dotenv(), override=True)\n",
    "api_key = os.getenv(\"OPENAI_API_KEY\")"
   ]
  },
  {
   "cell_type": "code",
   "execution_count": 2,
   "id": "45450bb3",
   "metadata": {},
   "outputs": [],
   "source": [
    "def load_document(file):\n",
    "    name, extension = os.path.splitext(file)\n",
    "    if extension == \".pdf\":\n",
    "        from langchain.document_loaders import PyPDFLoader\n",
    "        print(f\"Loading document from {file}\")\n",
    "        loader = PyPDFLoader(file)\n",
    "    elif extension == \".docx\":\n",
    "        from langchain.document_loaders import Docx2txtLoader\n",
    "        print(f\"Loading document from {file}\")\n",
    "        loader = Docx2txtLoader(file)\n",
    "    else:\n",
    "        raise ValueError(f\"Unsupported file extension: {extension}\")\n",
    "    data = loader.load()\n",
    "    return data"
   ]
  },
  {
   "cell_type": "code",
   "execution_count": 3,
   "id": "955fb091",
   "metadata": {},
   "outputs": [
    {
     "name": "stdout",
     "output_type": "stream",
     "text": [
      "Loading document from files/constitution.pdf\n",
      "C O N S T I T U T I O N O F T H E U N I T E D S T A T E S  \n",
      " \n",
      " \n",
      " \n",
      " \n",
      "We the People of the United States, in Order to form a \n",
      "more perfect Union, establish Justice, insure domestic \n",
      "Tranquility, provide for the common defence, promote \n",
      "the general Welfare, and secure the Blessings of Liberty to \n",
      "ourselves and our Posterity, do ordain and establish this \n",
      "Constitution for the United States of America  \n",
      " \n",
      " \n",
      "Article.  I. \n",
      "SECTION. 1 \n",
      "All legislative Powers herein granted shall be vested in a \n",
      "Congress of the United States, which shall consist of a Sen- \n",
      "ate and House of Representatives. \n",
      "SECTION. 2 \n",
      "The House of Representatives shall be composed of Mem- \n",
      "bers chosen every second Year by the People of the several \n",
      "States, and the Electors in each State shall have the Qualifi- \n",
      "cations requisite for Electors of the most numerous Branch \n",
      "of the State Legislature. \n",
      "No Person shall be a Representative who shall not have \n",
      "attained to the Age of twenty five Years, and been seven \n",
      "Years a Citizen of the United States, and who shall not, \n",
      "when elected, be an Inhabitant of that State in which he \n",
      "shall be chosen. \n",
      "[Representatives and direct Taxes shall be apportioned \n",
      "among the several States which may be included within \n",
      "this Union, according to their respective Numbers, which \n",
      "shall be determined by adding to the whole Number of \n",
      "free Persons, including those bound to Service for a Term \n",
      "of Years, and excluding Indians not taxed, three fifths of \n",
      "all other Persons.]* The actual Enumeration shall be made \n",
      "within three Years after the first Meeting of the Congress \n",
      "of the United States, and within every subsequent Term of \n",
      "ten Years, in such Manner as they shall by Law direct. The \n",
      "Number of Representatives shall not exceed one for every \n",
      "thirty Thousand, but each State shall have at Least one \n",
      "Representative; and until such enumeration shall be made, \n",
      "the State of New Hampshire shall be entitled to chuse \n",
      "three, Massachusetts eight, Rhode-Island and Providence \n",
      "Plantations one, Connecticut five, New-York six, New \n",
      "Jersey four, Pennsylvania eight, Delaware one, Maryland \n",
      "six, Virginia ten, North Carolina five, South Carolina five, \n",
      "and Georgia three. \n",
      "When vacancies happen in the Representation from any \n",
      "State, the Executive Authority thereof shall issue Writs of \n",
      "Election to fill such Vacancies. \n",
      "The House of Representatives shall chuse their \n",
      "Speaker and other Officers; and shall have the sole \n",
      "Power of Impeachment. \n",
      "SECTION. 3 \n",
      "The Senate of the United States shall be composed of two \n",
      "Senators from each State, [chosen by the Legislature there- \n",
      "of,]* for six Years; and each Senator shall have one Vote. \n",
      "Immediately after they shall be assembled in Consequence \n",
      "of the first Election, they shall be divided as equally as may \n",
      "be into three Classes. The Seats of the Senators of the first \n",
      "Class shall be vacated at the Expiration of the second Year, \n",
      "of the second Class at the Expiration of the fourth Year, and \n",
      "of the third Class at the Expiration of the sixth Year, so that \n",
      "one third may be chosen every second Year; [and if Vacan- \n",
      "cies happen by Resignation, or otherwise, during the Recess \n",
      "of the Legislature of any State, the Executive thereof may \n",
      "make temporary Appointments until the next Meeting of \n",
      "the Legislature, which shall then fill such Vacancies.]*\n"
     ]
    }
   ],
   "source": [
    "data = load_document(\"files/constitution.pdf\")\n",
    "print(data[1].page_content)  # Print content of the second page"
   ]
  },
  {
   "cell_type": "code",
   "execution_count": 4,
   "id": "fcb881aa",
   "metadata": {},
   "outputs": [
    {
     "name": "stdout",
     "output_type": "stream",
     "text": [
      "Document has 19 pages.\n",
      "There are 13 metadata fields on the first page.\n"
     ]
    }
   ],
   "source": [
    "print(f\"Document has {len(data)} pages.\")\n",
    "print(f\"There are {len(data[0].metadata)} metadata fields on the first page.\")"
   ]
  },
  {
   "cell_type": "code",
   "execution_count": 5,
   "id": "c0a8428a",
   "metadata": {},
   "outputs": [
    {
     "name": "stdout",
     "output_type": "stream",
     "text": [
      "Loading document from files/Sam_Villasmith_Resume_2025 _Dev.docx\n",
      "SAMUEL VILLA-SMITH, MBA\n",
      "\n",
      "Senior Software Engineer\n",
      "\n",
      "📧 svillasmith2@gmail.com | 📱 (806) 440-2215 | 🏠 Fritch, TX\n",
      "\n",
      "🔗 https://www.linkedin.com/in/samuel-villa-smith-mbaa803a0109  | 🌐 https://github.com/samvillasmith | \n",
      "\n",
      "\n",
      "\n",
      "PROFESSIONAL SUMMARY\n",
      "\n",
      "Experienced Senior Software Engineer with strong background in secure cloud-native applications and full-stack development. Data-driven PhD student in Information Technology with expertise in AI, Machine Learning, and Natural Language Processing (NLP). Combines technical expertise with business acumen to architect and develop robust, security-first web and mobile solutions. AWS Solutions Architect certified with proven experience in implementing defensive security measures and optimizing application performance.\n",
      "\n",
      "\n",
      "\n",
      "\n",
      "\n",
      "TECHNICAL SKILLS\n",
      "\n",
      "Development: React, TypeScript, Next.js, Node.js, Tailwind CSS, Shadcn UI, T3 Stack, Full- Stack Development\n",
      "\n",
      "Data & AI: Advanced Analytics, Data Visualization (Matplotlib, Seaborn), Machine Learning, NLP, Scikit-learn, RAG, Langchain, Vector databases (Pinecone, Upstash)\n",
      "\n",
      "Cloud & DevOps: AWS, Vercel, CI/CD, Microservices, Serverless Architectures, DevSecOps Security: Application Security, Penetration Testing, Vulnerability Assessment, Identity & Access Management\n",
      "\n",
      "Database: MySQL, MongoDB, Prisma ORM, SQL \n",
      "\n",
      "Programming: Python, Java, TypeScript, JavaScript\n",
      "\n",
      "\n",
      "\n",
      "PROFESSIONAL EXPERIENCE\n",
      "\n",
      "Principal Full-Stack Software Engineer\n",
      "\n",
      "Masada Systems (Self-employed) \n",
      "\n",
      "(October 2024 - Present) Amarillo, Texas (Hybrid)\n",
      "\n",
      "\n",
      "\n",
      "\tArchitects and develops secure web and mobile solutions as an independent full-stack developer, specializing in hardened T3 stack applications\n",
      "\n",
      "\tEngineer security-first frontend experiences using React, TypeScript, Next.js, Tailwind, and Shadcn UI\n",
      "\n",
      "\tImplement fortified backend solutions through Prisma with encrypted MySQL and MongoDB databases\n",
      "\n",
      "\tSecure large language models (LLMs) and conversational AI tools with robust authentication, rate limiting, and input validation\n",
      "\n",
      "\tDeploy and maintain production-grade applications on AWS and Vercel platforms, implementing comprehensive DevSecOps practices\n",
      "\n",
      "\tDevelop responsive applications with defense-in-depth strategies, ensuring protection of sensitive data while maintaining high performance standards\n",
      "\n",
      "Senior Software Engineer\n",
      "\n",
      "Oasis Technology & Engineering (Astrion) \n",
      "\n",
      "(August 2020 - April 2024) San Antonio, TX (Remote)\n",
      "\n",
      "\n",
      "\n",
      "\tSpearheaded development and modernization of cloud-native mobile and web applications for a major government client\n",
      "\n",
      "\tDesigned and implemented cloud-based architectures using innovative paradigms, enhancing application security and user satisfaction\n",
      "\n",
      "\tCollaborated with cross-functional teams to lead data-driven product changes using Agile methodologies\n",
      "\n",
      "\tConducted data analysis to provide insights and recommendations for architectural, policy, and process improvements\n",
      "\n",
      "\tTransformed business goals and end-user needs into product strategy\n",
      "\n",
      "\tParticipated in software vendor selection, program decision support, and MVP development\n",
      "\n",
      "\tMentored junior and mid-level personnel while ensuring project quality, security, and compliance requirements\n",
      "\n",
      "\n",
      "\n",
      "Freelance Software Engineer \n",
      "\n",
      "Masada Systems \n",
      "\n",
      "(June 2016 - February 2021) Amarillo, TX and Be'er Sheva, Israel (Remote)\n",
      "\n",
      "\tDirected digital transformation for a nonprofit, enhancing IT alignment through the launch of a web app\n",
      "\n",
      "\tManaged Agile cross-functional teams, turning business goals into actionable product strategies\n",
      "\n",
      "\tLed major data migration effort to overhaul organization's data management systems, improving security\n",
      "\n",
      "\t\n",
      "\n",
      "NOTABLE PROJECTS\n",
      "\n",
      "\n",
      "\n",
      "AI Companion Platform (August 2025-Present)\n",
      "\n",
      "\tEngineered a sophisticated AI companion platform featuring 10 specialized chatbot caegories\n",
      "\n",
      "\tBuilt custom companion creation functionality with React, TypeScript, and Next.js\n",
      "\n",
      "\tDeveloped robust backend using PostgreSQL, Prisma ORM, and OpenAI integration\n",
      "\n",
      "\tImplemented user authentication and Stripe integration for premium features\n",
      "\n",
      "\tCreated engaging, personalized conversational AI experiences\n",
      "\n",
      "Coats-Music.com (October 2024 - Present)\n",
      "\n",
      "\tBuilt a comprehensive virtual guitar learning application as full-stack principal software engineer\n",
      "\n",
      "\tImplemented the T3 stack (TypeScript, Tailwind, tRPC) for a type-safe, modern architecture\n",
      "\n",
      "\tDeployed and maintained the application on Vercel, ensuring optimal performance\n",
      "\n",
      "\tManaged entire project lifecycle from conception to deployment\n",
      "\n",
      "\n",
      "\n",
      "\n",
      "\n",
      "EDUCATION\n",
      "\n",
      "Doctor of Philosophy (PhD) in Information Technology (Expected 2026)\n",
      "\n",
      "University of the Cumberlands\n",
      "\n",
      "\n",
      "\n",
      "Master of Business Administration (MBA)\n",
      "\n",
      "Liberty University, 2019\n",
      "\n",
      "\n",
      "\n",
      "Bachelor of Science (B.S) in Interdisciplinary Studies\n",
      "\n",
      "Business Administration & Criminal Justice\n",
      "\n",
      "Liberty University, 2016\n",
      "\n",
      "\n",
      "\n",
      "\n",
      "\n",
      "CERTIFICATIONS\n",
      "\n",
      "\tAWS Solutions Architect - Associate (July 2022 - July 2025)\n",
      "\n",
      "\tCompTIA Security+ (April 2019 - April 2028)\n"
     ]
    }
   ],
   "source": [
    "data_docx = load_document(\"files/Sam_Villasmith_Resume_2025 _Dev.docx\")\n",
    "print(data_docx[0].page_content)  # Print content of the first page"
   ]
  },
  {
   "cell_type": "markdown",
   "id": "597e0e6e",
   "metadata": {},
   "source": [
    "## Basic Educational Overview of Technologies Used"
   ]
  },
  {
   "cell_type": "markdown",
   "id": "d45945f0",
   "metadata": {},
   "source": [
    "## Service Loaders"
   ]
  },
  {
   "cell_type": "code",
   "execution_count": 6,
   "id": "855ac7e6",
   "metadata": {},
   "outputs": [],
   "source": [
    "def load_From_wikipedia(query, lang=\"en\", load_max_docs=3):\n",
    "    from langchain.document_loaders import WikipediaLoader\n",
    "    print(f\"Loading document from Wikipedia for query: {query}\")\n",
    "    loader = WikipediaLoader(query=query, lang=lang, load_max_docs=load_max_docs)\n",
    "    data = loader.load()\n",
    "    return data"
   ]
  },
  {
   "cell_type": "code",
   "execution_count": 7,
   "id": "47dc333d",
   "metadata": {},
   "outputs": [
    {
     "name": "stdout",
     "output_type": "stream",
     "text": [
      "Loading document from Wikipedia for query: Artificial Intelligence\n",
      "Artificial intelligence (AI) is the capability of computational systems to perform tasks typically associated with human intelligence, such as learning, reasoning, problem-solving, perception, and decision-making. It is a field of research in computer science that develops and studies methods and software that enable machines to perceive their environment and use learning and intelligence to take actions that maximize their chances of achieving defined goals.\n",
      "High-profile applications of AI include advanced web search engines (e.g., Google Search); recommendation systems (used by YouTube, Amazon, and Netflix); virtual assistants (e.g., Google Assistant, Siri, and Alexa); autonomous vehicles (e.g., Waymo); generative and creative tools (e.g., language models and AI art); and superhuman play and analysis in strategy games (e.g., chess and Go). However, many AI applications are not perceived as AI: \"A lot of cutting edge AI has filtered into general applications, often without being called AI because once something becomes useful enough and common enough it's not labeled AI anymore.\"\n",
      "Various subfields of AI research are centered around particular goals and the use of particular tools. The traditional goals of AI research include learning, reasoning, knowledge representation, planning, natural language processing, perception, and support for robotics. To reach these goals, AI researchers have adapted and integrated a wide range of techniques, including search and mathematical optimization, formal logic, artificial neural networks, and methods based on statistics, operations research, and economics. AI also draws upon psychology, linguistics, philosophy, neuroscience, and other fields. Some companies, such as OpenAI, Google DeepMind and Meta, aim to create artificial general intelligence (AGI)—AI that can complete virtually any cognitive task at least as well as a human.\n",
      "Artificial intelligence was founded as an academic discipline in 1956, and the field went through multiple cycles of optimism throughout its history, followed by periods of disappointment and loss of funding, known as AI winters. Funding and interest vastly increased after 2012 when graphics processing units started being used to accelerate neural networks and deep learning outperformed previous AI techniques. This growth accelerated further after 2017 with the transformer architecture. In the 2020s, an ongoing period of rapid progress in advanced generative AI became known as the AI boom. Generative AI's ability to create and modify content has led to several unintended consequences and harms, which has raised ethical concerns about AI's long-term effects and potential existential risks, prompting discussions about regulatory policies to ensure the safety and benefits of the technology.\n",
      "\n",
      "\n",
      "== Goals ==\n",
      "The general problem of simulating (or creating) intelligence has been broken into subproblems. These consist of particular traits or capabilities that researchers expect an intelligent system to display. The traits described below have received the most attention and cover the scope of AI research.\n",
      "\n",
      "\n",
      "=== Reasoning and problem-solving ===\n",
      "Early researchers developed algorithms that imitated step-by-step reasoning that humans use when they solve puzzles or make logical deductions. By the late 1980s and 1990s, methods were developed for dealing with uncertain or incomplete information, employing concepts from probability and economics.\n",
      "Many of these algorithms are insufficient for solving large reasoning problems because they experience a \"combinatorial explosion\": They become exponentially slower as the problems grow. Even humans rarely use the step-by-step deduction that early AI research could model. They solve most of their problems using fast, intuitive judgments. Accurate and efficient reasoning is an unsolved problem.\n",
      "\n",
      "\n",
      "=== Knowledge representation ===\n",
      "\n",
      "Knowledge representation and knowledge engineering allow AI programs to answer questions intelligently and make \n"
     ]
    }
   ],
   "source": [
    "data_wiki = load_From_wikipedia(\"Artificial Intelligence\")\n",
    "print(data_wiki[0].page_content)  # Print content of the first Wikipedia article"
   ]
  },
  {
   "cell_type": "code",
   "execution_count": 8,
   "id": "c3316161",
   "metadata": {},
   "outputs": [],
   "source": [
    "def chunk_data(data, chunk_size=256, chunk_overlap=0):\n",
    "    from langchain.text_splitter import RecursiveCharacterTextSplitter\n",
    "    text_splitter = RecursiveCharacterTextSplitter(\n",
    "        chunk_size=chunk_size,\n",
    "        chunk_overlap=chunk_overlap,\n",
    "        length_function=len\n",
    "    )\n",
    "    chunks = text_splitter.split_documents(data)\n",
    "    return chunks"
   ]
  },
  {
   "cell_type": "code",
   "execution_count": 9,
   "id": "3771ca16",
   "metadata": {},
   "outputs": [],
   "source": [
    "chunks = chunk_data(data)"
   ]
  },
  {
   "cell_type": "code",
   "execution_count": 10,
   "id": "2ec1864c",
   "metadata": {},
   "outputs": [
    {
     "name": "stdout",
     "output_type": "stream",
     "text": [
      "Document has 236 chunks after splitting.\n"
     ]
    }
   ],
   "source": [
    "print(f\"Document has {len(chunks)} chunks after splitting.\")"
   ]
  },
  {
   "cell_type": "code",
   "execution_count": 11,
   "id": "34593ed4",
   "metadata": {},
   "outputs": [
    {
     "name": "stdout",
     "output_type": "stream",
     "text": [
      "page_content='Representative; and until such enumeration shall be made, \n",
      "the State of New Hampshire shall be entitled to chuse \n",
      "three, Massachusetts eight, Rhode-Island and Providence \n",
      "Plantations one, Connecticut five, New-York six, New' metadata={'producer': 'Adobe PDF Library 23.1.125', 'creator': 'Acrobat PDFMaker 23 for Word', 'creationdate': '2023-04-10T12:53:44-04:00', 'company': '', 'created': 'D:20030612', 'lastsaved': 'D:20230409', 'moddate': '2023-04-10T13:09:52-04:00', 'sourcemodified': 'D:20230410165309', 'title': 'constitution_pdf2', 'source': 'files/constitution.pdf', 'total_pages': 19, 'page': 1, 'page_label': '2'}\n"
     ]
    }
   ],
   "source": [
    "print(chunks[9])  # Print the first chunk"
   ]
  },
  {
   "cell_type": "markdown",
   "id": "d014d6e3",
   "metadata": {},
   "source": [
    "## Vector Stores"
   ]
  },
  {
   "cell_type": "code",
   "execution_count": 12,
   "id": "dd681f1c",
   "metadata": {},
   "outputs": [],
   "source": [
    "from pinecone import Pinecone\n",
    "pc = Pinecone() "
   ]
  },
  {
   "cell_type": "code",
   "execution_count": 13,
   "id": "836785bc",
   "metadata": {},
   "outputs": [
    {
     "name": "stdout",
     "output_type": "stream",
     "text": [
      "Creating index: qa-docs\n",
      "Index qa-docs created.\n"
     ]
    }
   ],
   "source": [
    "from pinecone import ServerlessSpec\n",
    "\n",
    "index_name = \"qa-docs\"\n",
    "if index_name not in pc.list_indexes().names():\n",
    "    print(f\"Creating index: {index_name}\")\n",
    "    pc.create_index(\n",
    "        name=index_name,  # Changed: use 'name=' keyword argument\n",
    "        dimension=1536,\n",
    "        metric=\"cosine\",\n",
    "        spec=ServerlessSpec(  # Changed: 'spec' instead of 'serverless'\n",
    "            cloud=\"aws\",\n",
    "            region=\"us-east-1\"\n",
    "        )\n",
    "    )\n",
    "    print(f\"Index {index_name} created.\")\n",
    "else:\n",
    "    print(f\"Index {index_name} already exists.\")"
   ]
  },
  {
   "cell_type": "code",
   "execution_count": 14,
   "id": "4cc0c155",
   "metadata": {},
   "outputs": [
    {
     "name": "stderr",
     "output_type": "stream",
     "text": [
      "c:\\Users\\Sam Ben-Yosef\\Desktop\\QA_Doc_App\\qavenv\\Lib\\site-packages\\tqdm\\auto.py:21: TqdmWarning: IProgress not found. Please update jupyter and ipywidgets. See https://ipywidgets.readthedocs.io/en/stable/user_install.html\n",
      "  from .autonotebook import tqdm as notebook_tqdm\n"
     ]
    },
    {
     "data": {
      "text/plain": [
       "{'dimension': 1536,\n",
       " 'index_fullness': 0.0,\n",
       " 'metric': 'cosine',\n",
       " 'namespaces': {},\n",
       " 'total_vector_count': 0,\n",
       " 'vector_type': 'dense'}"
      ]
     },
     "execution_count": 14,
     "metadata": {},
     "output_type": "execute_result"
    }
   ],
   "source": [
    "index = pc.Index(index_name)\n",
    "index.describe_index_stats()"
   ]
  },
  {
   "cell_type": "markdown",
   "id": "ee96ef5d",
   "metadata": {},
   "source": [
    "### Upserting Vectors into Pinecone Index\n",
    "When upserting vectors into a Pinecone index, ensure that the vectors are in the correct format and that the index is properly initialized. Below is an example of how to upsert vectors into a Pinecone index."
   ]
  },
  {
   "cell_type": "code",
   "execution_count": 15,
   "id": "95e12337",
   "metadata": {},
   "outputs": [
    {
     "data": {
      "text/plain": [
       "{'upserted_count': 5}"
      ]
     },
     "execution_count": 15,
     "metadata": {},
     "output_type": "execute_result"
    }
   ],
   "source": [
    "import random\n",
    "# Create 5 vectors, each of dimension 1536\n",
    "vectors = [[random.random() for _ in range(1536)] for _ in range(5)]  # 5 vectors of dimension 1536\n",
    "ids = list('abcde')  # 5 unique IDs\n",
    "index_name = \"qa-docs\"\n",
    "# Pinecone expects a list of (id, vector) tuples\n",
    "index.upsert(vectors=list(zip(ids, vectors)))"
   ]
  },
  {
   "cell_type": "markdown",
   "id": "01779c2d",
   "metadata": {},
   "source": [
    "### Updating Pinecone vectors \n",
    "To update vectors in a Pinecone index, you can use the `upsert` method. If the vector ID already exists in the index, the existing vector will be updated with the new vector data. Here's an example of how to update vectors in a Pinecone index:"
   ]
  },
  {
   "cell_type": "code",
   "execution_count": 16,
   "id": "5537da7f",
   "metadata": {},
   "outputs": [
    {
     "data": {
      "text/plain": [
       "{'upserted_count': 2}"
      ]
     },
     "execution_count": 16,
     "metadata": {},
     "output_type": "execute_result"
    }
   ],
   "source": [
    "index.upsert(vectors=[(\"a\", [0.1]*1536), (\"b\", [0.2]*1536)])  # Example vectors"
   ]
  },
  {
   "cell_type": "markdown",
   "id": "aa9163db",
   "metadata": {},
   "source": [
    "### Fetching a vector by ID\n",
    "To fetch a vector by its ID from a Pinecone index, you can use the `fetch` method. This method retrieves the vector associated with the specified ID. Below is an example of how to fetch a vector by its ID:"
   ]
  },
  {
   "cell_type": "code",
   "execution_count": 17,
   "id": "d1baeb14",
   "metadata": {},
   "outputs": [
    {
     "data": {
      "text/plain": [
       "FetchResponse(namespace='', vectors={}, usage={'read_units': 1})"
      ]
     },
     "execution_count": 17,
     "metadata": {},
     "output_type": "execute_result"
    }
   ],
   "source": [
    "index.fetch(ids=[\"a\", \"b\"])"
   ]
  },
  {
   "cell_type": "markdown",
   "id": "7272acf9",
   "metadata": {},
   "source": [
    "### Deleting vectors by ID\n",
    "To delete vectors from a Pinecone index by their IDs, you can use the `delete` method. This method removes the vectors associated with the specified IDs from the index. Below is an example of how to delete vectors by their IDs: "
   ]
  },
  {
   "cell_type": "code",
   "execution_count": 18,
   "id": "77d04f55",
   "metadata": {},
   "outputs": [
    {
     "data": {
      "text/plain": [
       "{}"
      ]
     },
     "execution_count": 18,
     "metadata": {},
     "output_type": "execute_result"
    }
   ],
   "source": [
    "index.delete(ids=[\"a\", \"b\"])"
   ]
  },
  {
   "cell_type": "code",
   "execution_count": 19,
   "id": "54207530",
   "metadata": {},
   "outputs": [
    {
     "data": {
      "text/plain": [
       "{'dimension': 1536,\n",
       " 'index_fullness': 0.0,\n",
       " 'metric': 'cosine',\n",
       " 'namespaces': {},\n",
       " 'total_vector_count': 0,\n",
       " 'vector_type': 'dense'}"
      ]
     },
     "execution_count": 19,
     "metadata": {},
     "output_type": "execute_result"
    }
   ],
   "source": [
    "index.describe_index_stats()"
   ]
  },
  {
   "cell_type": "code",
   "execution_count": 20,
   "id": "b3645f8c",
   "metadata": {},
   "outputs": [
    {
     "data": {
      "text/plain": [
       "FetchResponse(namespace='', vectors={}, usage={'read_units': 1})"
      ]
     },
     "execution_count": 20,
     "metadata": {},
     "output_type": "execute_result"
    }
   ],
   "source": [
    "index.fetch(ids=['c'])"
   ]
  },
  {
   "cell_type": "markdown",
   "id": "b0954361",
   "metadata": {},
   "source": [
    "### Querying Pinecone Index\n",
    "To query a Pinecone index, you can use the `query` method. This method allows you to search for vectors similar to a given query vector. Below is an example of how to query a Pinecone index:"
   ]
  },
  {
   "cell_type": "code",
   "execution_count": 21,
   "id": "d4e1acfe",
   "metadata": {},
   "outputs": [
    {
     "data": {
      "text/plain": [
       "{}"
      ]
     },
     "execution_count": 21,
     "metadata": {},
     "output_type": "execute_result"
    }
   ],
   "source": [
    "index.delete(ids=[\"b\", \"c\", \"d\", \"e\"])"
   ]
  },
  {
   "cell_type": "code",
   "execution_count": 22,
   "id": "f5192184",
   "metadata": {},
   "outputs": [
    {
     "data": {
      "text/plain": [
       "{'dimension': 1536,\n",
       " 'index_fullness': 0.0,\n",
       " 'metric': 'cosine',\n",
       " 'namespaces': {},\n",
       " 'total_vector_count': 0,\n",
       " 'vector_type': 'dense'}"
      ]
     },
     "execution_count": 22,
     "metadata": {},
     "output_type": "execute_result"
    }
   ],
   "source": [
    "index.describe_index_stats()"
   ]
  },
  {
   "cell_type": "code",
   "execution_count": 23,
   "id": "fdc0c428",
   "metadata": {},
   "outputs": [
    {
     "data": {
      "text/plain": [
       "{'upserted_count': 5}"
      ]
     },
     "execution_count": 23,
     "metadata": {},
     "output_type": "execute_result"
    }
   ],
   "source": [
    "# Create 5 vectors, each of dimension 1536\n",
    "vectors = [[random.random() for _ in range(1536)] for _ in range(5)]  # 5 vectors of dimension 1536\n",
    "ids = list('abcde')  # 5 unique IDs\n",
    "index_name = \"qa-docs\"\n",
    "# Pinecone expects a list of (id, vector) tuples\n",
    "index.upsert(vectors=list(zip(ids, vectors)))"
   ]
  },
  {
   "cell_type": "code",
   "execution_count": 24,
   "id": "055e5a56",
   "metadata": {},
   "outputs": [
    {
     "data": {
      "text/plain": [
       "{'matches': [], 'namespace': '', 'usage': {'read_units': 1}}"
      ]
     },
     "execution_count": 24,
     "metadata": {},
     "output_type": "execute_result"
    }
   ],
   "source": [
    "query_vector = [random.random() for _ in range(1536)]  # A random query vector of dimension 1536\n",
    "# Query the index for the top 3 most similar vectors\n",
    "index.query(vector=query_vector, top_k=3)"
   ]
  },
  {
   "cell_type": "markdown",
   "id": "2e1b1e39",
   "metadata": {},
   "source": [
    "## Namespaces\n",
    "Namespaces in Pinecone allow you to organize your vectors into separate groups. This can be useful for managing different datasets or applications within the same Pinecone index. When upserting, querying, or deleting vectors, you can specify a namespace to operate within that specific group."
   ]
  },
  {
   "cell_type": "code",
   "execution_count": 25,
   "id": "bb7fc86d",
   "metadata": {},
   "outputs": [
    {
     "data": {
      "text/plain": [
       "{'upserted_count': 3}"
      ]
     },
     "execution_count": 25,
     "metadata": {},
     "output_type": "execute_result"
    }
   ],
   "source": [
    "vectors = [[random.random() for _ in range(1536)] for _ in range(3)]  # 3 vectors of dimension 1536\n",
    "ids = list('xyz')  # 3 unique IDs\n",
    "index.upsert(vectors=list(zip(ids, vectors)), namespace=\"test-namespace\")"
   ]
  },
  {
   "cell_type": "code",
   "execution_count": 26,
   "id": "eedb69b4",
   "metadata": {},
   "outputs": [
    {
     "data": {
      "text/plain": [
       "{'upserted_count': 2}"
      ]
     },
     "execution_count": 26,
     "metadata": {},
     "output_type": "execute_result"
    }
   ],
   "source": [
    "vectors = [[random.random() for _ in range(1536)] for _ in range(2)]  # 2 vectors of dimension 1536\n",
    "ids = list('wv')  # 2 unique IDs\n",
    "index.upsert(vectors=list(zip(ids, vectors)), namespace=\"test-namespace-2\")"
   ]
  },
  {
   "cell_type": "code",
   "execution_count": 27,
   "id": "716cf0de",
   "metadata": {},
   "outputs": [
    {
     "data": {
      "text/plain": [
       "{'dimension': 1536,\n",
       " 'index_fullness': 0.0,\n",
       " 'metric': 'cosine',\n",
       " 'namespaces': {},\n",
       " 'total_vector_count': 0,\n",
       " 'vector_type': 'dense'}"
      ]
     },
     "execution_count": 27,
     "metadata": {},
     "output_type": "execute_result"
    }
   ],
   "source": [
    "index.describe_index_stats()"
   ]
  },
  {
   "cell_type": "code",
   "execution_count": 28,
   "id": "c6a2efc3",
   "metadata": {},
   "outputs": [
    {
     "data": {
      "text/plain": [
       "FetchResponse(namespace='', vectors={}, usage={'read_units': 1})"
      ]
     },
     "execution_count": 28,
     "metadata": {},
     "output_type": "execute_result"
    }
   ],
   "source": [
    "# This won't work because the vectors are in different namespaces\n",
    "index.fetch(ids=['x', 'w'])"
   ]
  },
  {
   "cell_type": "code",
   "execution_count": 29,
   "id": "cb79bd08",
   "metadata": {},
   "outputs": [
    {
     "data": {
      "text/plain": [
       "FetchResponse(namespace='test-namespace', vectors={}, usage={'read_units': 1})"
      ]
     },
     "execution_count": 29,
     "metadata": {},
     "output_type": "execute_result"
    }
   ],
   "source": [
    "# This will work because we specify the namespace\n",
    "index.fetch(ids=['x'], namespace=\"test-namespace\")"
   ]
  },
  {
   "cell_type": "code",
   "execution_count": 30,
   "id": "62f2d6c7",
   "metadata": {},
   "outputs": [
    {
     "data": {
      "text/plain": [
       "{}"
      ]
     },
     "execution_count": 30,
     "metadata": {},
     "output_type": "execute_result"
    }
   ],
   "source": [
    "# This also applies when deleting vectors\n",
    "index.delete(ids=['x'], namespace=\"test-namespace\")"
   ]
  },
  {
   "cell_type": "code",
   "execution_count": 31,
   "id": "0588210c",
   "metadata": {},
   "outputs": [
    {
     "data": {
      "text/plain": [
       "{}"
      ]
     },
     "execution_count": 31,
     "metadata": {},
     "output_type": "execute_result"
    }
   ],
   "source": [
    "# To delete all vectors in a namespace and the namespace itself\n",
    "index.delete(delete_all=True, namespace=\"test-namespace-2\")"
   ]
  },
  {
   "cell_type": "code",
   "execution_count": 32,
   "id": "1aeb5a01",
   "metadata": {},
   "outputs": [
    {
     "data": {
      "text/plain": [
       "{'dimension': 1536,\n",
       " 'index_fullness': 0.0,\n",
       " 'metric': 'cosine',\n",
       " 'namespaces': {},\n",
       " 'total_vector_count': 0,\n",
       " 'vector_type': 'dense'}"
      ]
     },
     "execution_count": 32,
     "metadata": {},
     "output_type": "execute_result"
    }
   ],
   "source": [
    "index.describe_index_stats()"
   ]
  },
  {
   "cell_type": "code",
   "execution_count": 33,
   "id": "fe6fb23e",
   "metadata": {},
   "outputs": [
    {
     "data": {
      "text/plain": [
       "{}"
      ]
     },
     "execution_count": 33,
     "metadata": {},
     "output_type": "execute_result"
    }
   ],
   "source": [
    "index.delete(delete_all=True, namespace=\"test-namespace\")"
   ]
  },
  {
   "cell_type": "code",
   "execution_count": 34,
   "id": "4415132c",
   "metadata": {},
   "outputs": [
    {
     "data": {
      "text/plain": [
       "{}"
      ]
     },
     "execution_count": 34,
     "metadata": {},
     "output_type": "execute_result"
    }
   ],
   "source": [
    "index.delete(ids=[\"a\", \"b\", \"c\", \"d\", \"e\"])"
   ]
  },
  {
   "cell_type": "code",
   "execution_count": 35,
   "id": "30c74bca",
   "metadata": {},
   "outputs": [
    {
     "data": {
      "text/plain": [
       "{'dimension': 1536,\n",
       " 'index_fullness': 0.0,\n",
       " 'metric': 'cosine',\n",
       " 'namespaces': {},\n",
       " 'total_vector_count': 0,\n",
       " 'vector_type': 'dense'}"
      ]
     },
     "execution_count": 35,
     "metadata": {},
     "output_type": "execute_result"
    }
   ],
   "source": [
    "index.describe_index_stats()"
   ]
  },
  {
   "cell_type": "markdown",
   "id": "1a5b8bf5",
   "metadata": {},
   "source": [
    "## RAG (Retrieval-Augmented Generation)\n",
    "Retrieval-Augmented Generation (RAG) is a technique that combines retrieval-based methods with generative models to improve the quality of generated responses. In a RAG system, relevant documents or passages are retrieved from a knowledge base based on the input query, and these retrieved documents are then used to inform the generation of the final response."
   ]
  },
  {
   "cell_type": "markdown",
   "id": "ec395893",
   "metadata": {},
   "source": [
    "## Embedding and Uploading to a Vector Database"
   ]
  },
  {
   "cell_type": "code",
   "execution_count": 43,
   "id": "98c13460",
   "metadata": {},
   "outputs": [],
   "source": [
    "def get_or_create_vector_store(index_name, chunks):\n",
    "    # Updated imports\n",
    "    from langchain_pinecone import PineconeVectorStore\n",
    "    from langchain_openai import OpenAIEmbeddings\n",
    "    from pinecone import ServerlessSpec\n",
    "    from langchain.vectorstores import Pinecone as LangchainPinecone\n",
    "    \n",
    "    embeddings = OpenAIEmbeddings()\n",
    "    \n",
    "    if index_name in pc.list_indexes().names():\n",
    "        print(f\"Index {index_name} exists. Fetching existing embeddings.\")\n",
    "        \n",
    "        # Use PineconeVectorStore with updated method\n",
    "        vector_store = PineconeVectorStore.from_existing_index(\n",
    "            index_name=index_name,\n",
    "            embedding=embeddings  \n",
    "\n",
    "        )\n",
    "        \n",
    "        # Get stats\n",
    "        index = pc.Index(index_name)\n",
    "        stats = index.describe_index_stats()\n",
    "        print(f\"Loaded {stats.total_vector_count} vectors from index {index_name}.\")\n",
    "    else:\n",
    "        print(f\"Creating index {index_name} and inserting embeddings.\")\n",
    "        pc.create_index(\n",
    "            name=index_name,\n",
    "            dimension=1536,\n",
    "            metric=\"cosine\",\n",
    "            spec=ServerlessSpec(\n",
    "                cloud=\"aws\",\n",
    "                region=\"us-east-1\"\n",
    "            )\n",
    "        )\n",
    "        \n",
    "        # Use PineconeVectorStore for creation\n",
    "        vector_store = PineconeVectorStore.from_documents(\n",
    "            documents=chunks,\n",
    "            embedding=embeddings,  \n",
    "            index_name=index_name\n",
    "        )\n",
    "        print(f\"Inserted {len(chunks)} vectors into index {index_name}.\")\n",
    "    \n",
    "    return vector_store"
   ]
  },
  {
   "cell_type": "code",
   "execution_count": 37,
   "id": "9e57c5a1",
   "metadata": {},
   "outputs": [],
   "source": [
    "def delete_index(index_name):\n",
    "    if index_name in pc.list_indexes().names():\n",
    "        print(f\"Deleting index: {index_name}\")\n",
    "        pc.delete_index(index_name)\n",
    "        print(f\"Index {index_name} deleted.\")\n",
    "    else:\n",
    "        print(f\"Index {index_name} does not exist.\")"
   ]
  },
  {
   "cell_type": "code",
   "execution_count": 45,
   "id": "0794f1b6",
   "metadata": {},
   "outputs": [
    {
     "name": "stdout",
     "output_type": "stream",
     "text": [
      "Deleting index: qa-docs\n",
      "Index qa-docs deleted.\n"
     ]
    }
   ],
   "source": [
    "delete_index(\"qa-docs\")"
   ]
  },
  {
   "cell_type": "markdown",
   "id": "4436c6e8",
   "metadata": {},
   "source": [
    "# Application Implementation"
   ]
  },
  {
   "cell_type": "code",
   "execution_count": 46,
   "id": "bcfbfaf5",
   "metadata": {},
   "outputs": [
    {
     "name": "stdout",
     "output_type": "stream",
     "text": [
      "Loading document from files/constitution.pdf\n"
     ]
    }
   ],
   "source": [
    "data = load_document(\"files/constitution.pdf\")\n",
    "chunks = chunk_data(data)"
   ]
  },
  {
   "cell_type": "code",
   "execution_count": 47,
   "id": "0034ca25",
   "metadata": {},
   "outputs": [
    {
     "name": "stdout",
     "output_type": "stream",
     "text": [
      "Creating index qa-docs and inserting embeddings.\n",
      "Inserted 236 vectors into index qa-docs.\n"
     ]
    }
   ],
   "source": [
    "index_name = \"qa-docs\"\n",
    "vector_store = get_or_create_vector_store(index_name, chunks)"
   ]
  },
  {
   "cell_type": "markdown",
   "id": "92a3f5e7",
   "metadata": {},
   "source": [
    "## Asking and Answering Questions\n",
    "\n",
    "Note: This does not handle memory or chat history. It is a simple question and answer system."
   ]
  },
  {
   "cell_type": "code",
   "execution_count": 48,
   "id": "14813090",
   "metadata": {},
   "outputs": [],
   "source": [
    "def ask_and_get_answer(vector_store, question):\n",
    "    from langchain_openai import OpenAI\n",
    "    from langchain.chains import RetrievalQA\n",
    "    from langchain.chat_models import ChatOpenAI\n",
    "\n",
    "    llm = ChatOpenAI(model=\"gpt-4o\", temperature=0.2)\n",
    "    retriever = vector_store.as_retriever(search_type=\"similarity\", search_kwargs={\"k\": 5})\n",
    "    chain = RetrievalQA.from_chain_type(llm=llm, chain_type=\"stuff\", retriever=retriever)\n",
    "    answer = chain.invoke(question)\n",
    "    return answer"
   ]
  },
  {
   "cell_type": "code",
   "execution_count": 49,
   "id": "7846957d",
   "metadata": {},
   "outputs": [
    {
     "name": "stderr",
     "output_type": "stream",
     "text": [
      "C:\\conda_tmp\\ipykernel_51208\\505856153.py:6: LangChainDeprecationWarning: The class `ChatOpenAI` was deprecated in LangChain 0.0.10 and will be removed in 1.0. An updated version of the class exists in the :class:`~langchain-openai package and should be used instead. To use it run `pip install -U :class:`~langchain-openai` and import as `from :class:`~langchain_openai import ChatOpenAI``.\n",
      "  llm = ChatOpenAI(model=\"gpt-4o\", temperature=0.2)\n"
     ]
    }
   ],
   "source": [
    "question = \"What is the purpose of the Constitution?\"\n",
    "answer = ask_and_get_answer(vector_store, question)"
   ]
  },
  {
   "cell_type": "code",
   "execution_count": 50,
   "id": "e81e528b",
   "metadata": {},
   "outputs": [
    {
     "name": "stdout",
     "output_type": "stream",
     "text": [
      "{'query': 'What is the purpose of the Constitution?', 'result': 'The purpose of the Constitution is to establish the framework for the government of the United States, ensure justice, provide for the common defense, promote the general welfare, and secure the blessings of liberty for the people and their future generations.'}\n"
     ]
    }
   ],
   "source": [
    "print(answer)"
   ]
  },
  {
   "cell_type": "code",
   "execution_count": 52,
   "id": "33df8043",
   "metadata": {},
   "outputs": [
    {
     "name": "stdout",
     "output_type": "stream",
     "text": [
      "Enter quit or exit to stop.\n",
      "Answer: {'query': 'explain the concept of the federal government ', 'result': 'The federal government is a system of governance in which power and authority are divided between a central government and individual states or provinces. In the context of the United States, the federal government refers to the national government, which is established by the U.S. Constitution. It is responsible for managing national affairs and has specific powers and responsibilities that are distinct from those of state governments.\\n\\nKey features of the U.S. federal government include:\\n\\n1. **Separation of Powers**: The federal government is divided into three branches: the legislative branch (Congress), the executive branch (headed by the President), and the judicial branch (the Supreme Court and other federal courts). Each branch has its own distinct powers and responsibilities, providing a system of checks and balances to prevent any one branch from becoming too powerful.\\n\\n2. **Enumerated Powers**: The Constitution outlines specific powers granted to the federal government, such as regulating interstate commerce, conducting foreign affairs, and providing for national defense. Powers not explicitly granted to the federal government are reserved for the states.\\n\\n3. **Supremacy Clause**: The Constitution, federal laws, and treaties are considered the \"supreme Law of the Land,\" meaning they take precedence over state laws when there is a conflict.\\n\\n4. **Federalism**: This is the principle that allows states to retain their own governments and powers, as long as they do not conflict with federal laws. States have their own constitutions and governments that handle local matters.\\n\\nThe federal government is designed to address issues that affect the nation as a whole, while allowing states to manage local affairs, creating a balance between unity and regional autonomy.'}\n",
      "Time taken: 10.83 seconds\n",
      "\n",
      "Answer: {'query': 'in the constitution, what does it say about the states and federal government?', 'result': 'The Constitution establishes a system of federalism, where certain powers are delegated to the federal government, while others are reserved for the states. Specifically, it states that the powers not delegated to the United States by the Constitution, nor prohibited by it to the states, are reserved to the states respectively, or to the people. This is outlined in the Tenth Amendment. Additionally, the Constitution and federal laws made in pursuance thereof, as well as treaties made under the authority of the United States, are considered the supreme law of the land.'}\n",
      "Time taken: 4.97 seconds\n",
      "\n",
      "Answer: {'query': 'what amendment deals with voting?', 'result': 'Several amendments to the U.S. Constitution deal with voting rights:\\n\\n1. The 15th Amendment prohibits the denial of the right to vote based on race, color, or previous condition of servitude.\\n2. The 19th Amendment prohibits the denial of the right to vote based on sex.\\n3. The 26th Amendment prohibits the denial of the right to vote for citizens 18 years of age or older based on age.\\n\\nThese amendments collectively ensure that voting rights are protected against discrimination based on race, sex, and age.'}\n",
      "Time taken: 3.63 seconds\n",
      "\n",
      "Answer: {'query': 'explain the bill of rights', 'result': \"The Bill of Rights is the collective name for the first ten amendments to the United States Constitution. These amendments were ratified on December 15, 1791, and they were introduced to ensure the protection of individual liberties and to limit the power of the federal government. Here is a brief overview of each amendment:\\n\\n1. **First Amendment**: Protects the freedoms of religion, speech, press, assembly, and the right to petition the government.\\n\\n2. **Second Amendment**: Protects the right to keep and bear arms.\\n\\n3. **Third Amendment**: Prohibits the quartering of soldiers in private homes without the owner's consent during peacetime.\\n\\n4. **Fourth Amendment**: Protects against unreasonable searches and seizures and sets requirements for search warrants based on probable cause.\\n\\n5. **Fifth Amendment**: Provides for the right to due process, prohibits double jeopardy and self-incrimination, and mandates compensation for the taking of private property for public use (eminent domain).\\n\\n6. **Sixth Amendment**: Guarantees the right to a fair and speedy public trial by an impartial jury, the right to be informed of criminal charges, the right to confront witnesses, and the right to an attorney.\\n\\n7. **Seventh Amendment**: Provides for the right to trial by jury in certain civil cases, according to common law.\\n\\n8. **Eighth Amendment**: Prohibits excessive fines and bail, as well as cruel and unusual punishment.\\n\\n9. **Ninth Amendment**: Declares that the listing of individual rights in the Constitution and Bill of Rights is not exhaustive; people have other rights not specifically mentioned.\\n\\n10. **Tenth Amendment**: States that powers not delegated to the federal government nor prohibited to the states by the Constitution are reserved to the states or the people.\\n\\nThese amendments were designed to protect the rights of individuals and limit the powers of the government, ensuring a balance between authority and liberty.\"}\n",
      "Time taken: 8.87 seconds\n",
      "\n"
     ]
    }
   ],
   "source": [
    "import time\n",
    "i = 1\n",
    "print(\"Enter quit or exit to stop.\")\n",
    "while True:\n",
    "    question = input(f\"Question {i}: \")\n",
    "    if question.lower() in [\"quit\", \"exit\"]:\n",
    "        break\n",
    "    start_time = time.time()\n",
    "    answer = ask_and_get_answer(vector_store, question)\n",
    "    end_time = time.time()\n",
    "    print(f\"Answer: {answer}\")\n",
    "    print(f\"Time taken: {end_time - start_time:.2f} seconds\\n\")\n",
    "    i += 1"
   ]
  },
  {
   "cell_type": "code",
   "execution_count": 58,
   "id": "0d280209",
   "metadata": {},
   "outputs": [
    {
     "name": "stdout",
     "output_type": "stream",
     "text": [
      "Loading document from Wikipedia for query: Machine Learning\n"
     ]
    }
   ],
   "source": [
    "data_wiki2 = load_From_wikipedia(\"Machine Learning\")\n",
    "chunks = chunk_data(data_wiki2)"
   ]
  },
  {
   "cell_type": "code",
   "execution_count": 59,
   "id": "35ee724f",
   "metadata": {},
   "outputs": [],
   "source": [
    "def add_documents_to_index(index_name, chunks):\n",
    "    from langchain_pinecone import PineconeVectorStore\n",
    "    from langchain_openai import OpenAIEmbeddings\n",
    "    \n",
    "    embeddings = OpenAIEmbeddings()\n",
    "    vector_store = PineconeVectorStore.from_existing_index(\n",
    "        index_name=index_name,\n",
    "        embedding=embeddings\n",
    "    )\n",
    "    \n",
    "    # Add new documents\n",
    "    vector_store.add_documents(chunks)\n",
    "    print(f\"Added {len(chunks)} documents to {index_name}\")\n",
    "    \n",
    "    return vector_store"
   ]
  },
  {
   "cell_type": "code",
   "execution_count": 60,
   "id": "4fc807af",
   "metadata": {},
   "outputs": [
    {
     "name": "stdout",
     "output_type": "stream",
     "text": [
      "Added 66 documents to qa-docs\n"
     ]
    },
    {
     "data": {
      "text/plain": [
       "<langchain_pinecone.vectorstores.PineconeVectorStore at 0x21d1d7eb820>"
      ]
     },
     "execution_count": 60,
     "metadata": {},
     "output_type": "execute_result"
    }
   ],
   "source": [
    "add_documents_to_index(index_name, chunks)"
   ]
  },
  {
   "cell_type": "code",
   "execution_count": 62,
   "id": "872c1960",
   "metadata": {},
   "outputs": [
    {
     "name": "stdout",
     "output_type": "stream",
     "text": [
      "Enter quit or exit to stop.\n",
      "Answer: {'query': 'what is ML?', 'result': 'Machine learning (ML) is a field of study in artificial intelligence that focuses on the development and study of statistical algorithms that can learn from data and generalize to unseen data. This allows the algorithms to perform tasks without explicit instructions. ML finds applications in various fields such as natural language processing, computer vision, speech recognition, email filtering, agriculture, and medicine. It is also used in business for predictive analytics. The foundations of machine learning are based on statistics and mathematical optimization methods.'}\n",
      "Time taken: 3.35 seconds\n",
      "\n",
      "Answer: {'query': 'Tell me about proprietary software with free and open-source editions', 'result': 'Proprietary software with free and open-source editions refers to software that is available in both a proprietary version, which is typically sold or licensed under restrictive terms, and an open-source version, which is made available under a license that allows users to freely use, modify, and distribute the software. This dual-licensing model allows companies to cater to different user needs and business models.\\n\\nIn this model, the open-source edition often serves as a community-driven version that encourages collaboration and contributions from developers around the world. It can help build a user base and foster innovation by allowing users to customize and improve the software. The proprietary version, on the other hand, may include additional features, support, or services that are not available in the open-source edition, providing a revenue stream for the company.\\n\\nExamples of software that follow this model include:\\n\\n1. **MySQL**: A popular open-source relational database management system that also offers a proprietary version with additional features and support.\\n\\n2. **Red Hat Enterprise Linux (RHEL)**: While RHEL itself is a commercial product, its source code is available, and it has community-driven derivatives like CentOS and Fedora.\\n\\n3. **ElasticSearch**: Originally open-source, ElasticSearch now offers both open-source and proprietary versions, with the latter including advanced features and support.\\n\\n4. **GitLab**: Provides a free, open-source Community Edition and a proprietary Enterprise Edition with additional features for larger organizations.\\n\\nThis approach allows companies to leverage the benefits of open-source development while also maintaining a business model that supports their operations and growth.'}\n",
      "Time taken: 7.93 seconds\n",
      "\n",
      "Answer: {'query': 'give me a list of free and open-source software for ML', 'result': 'Here is a list of some popular free and open-source software for machine learning:\\n\\n1. TensorFlow\\n2. PyTorch\\n3. Scikit-learn\\n4. Keras\\n5. Apache MXNet\\n6. LightGBM\\n7. XGBoost\\n8. CatBoost\\n9. OpenCV (for computer vision tasks)\\n10. R (with packages like caret and randomForest)\\n11. KNIME\\n12. Weka\\n\\nThese tools provide a range of functionalities for different machine learning tasks, including deep learning, data preprocessing, and model evaluation.'}\n",
      "Time taken: 4.87 seconds\n",
      "\n",
      "Answer: {'query': \"Who coined the term 'machine learning' and when?\", 'result': \"The term 'machine learning' was coined in 1959 by Arthur Samuel, an IBM employee and pioneer in the field of computer gaming and artificial intelligence.\"}\n",
      "Time taken: 3.78 seconds\n",
      "\n",
      "Answer: {'query': 'According to Tom M. Mitchell, what is the formal definition of machine learning?', 'result': 'According to Tom M. Mitchell, the formal definition of machine learning is: \"A computer program is said to learn from experience E with respect to some class of tasks T and performance measure P if its performance at tasks in T, as measured by P, improves with experience E.\"'}\n",
      "Time taken: 3.33 seconds\n",
      "\n"
     ]
    }
   ],
   "source": [
    "print(\"Enter quit or exit to stop.\")\n",
    "while True:\n",
    "    question = input(f\"Question {i}: \")\n",
    "    if question.lower() in [\"quit\", \"exit\"]:\n",
    "        break\n",
    "    start_time = time.time()\n",
    "    answer = ask_and_get_answer(vector_store, question)\n",
    "    end_time = time.time()\n",
    "    print(f\"Answer: {answer}\")\n",
    "    print(f\"Time taken: {end_time - start_time:.2f} seconds\\n\")\n",
    "    i += 1"
   ]
  },
  {
   "cell_type": "code",
   "execution_count": null,
   "id": "1f4c457e",
   "metadata": {},
   "outputs": [],
   "source": []
  },
  {
   "cell_type": "code",
   "execution_count": null,
   "id": "22101586",
   "metadata": {},
   "outputs": [],
   "source": []
  }
 ],
 "metadata": {
  "kernelspec": {
   "display_name": "qavenv",
   "language": "python",
   "name": "python3"
  },
  "language_info": {
   "codemirror_mode": {
    "name": "ipython",
    "version": 3
   },
   "file_extension": ".py",
   "mimetype": "text/x-python",
   "name": "python",
   "nbconvert_exporter": "python",
   "pygments_lexer": "ipython3",
   "version": "3.13.5"
  }
 },
 "nbformat": 4,
 "nbformat_minor": 5
}
