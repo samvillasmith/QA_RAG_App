{
 "cells": [
  {
   "cell_type": "markdown",
   "id": "19c2b75e",
   "metadata": {},
   "source": [
    "# Question Answering Project\n",
    "This project involves building a question answering system using a pre-trained language model. The system will take a context passage and a question as input and generate an answer based on the provided context."
   ]
  },
  {
   "cell_type": "code",
   "execution_count": 6,
   "id": "aa768a3c",
   "metadata": {},
   "outputs": [],
   "source": [
    "from dotenv import load_dotenv, find_dotenv\n",
    "import os\n",
    "load_dotenv(find_dotenv(), override=True)\n",
    "api_key = os.getenv(\"OPENAI_API_KEY\")"
   ]
  },
  {
   "cell_type": "code",
   "execution_count": 7,
   "id": "45450bb3",
   "metadata": {},
   "outputs": [],
   "source": [
    "def load_document(file):\n",
    "    name, extension = os.path.splitext(file)\n",
    "    if extension == \".pdf\":\n",
    "        from langchain.document_loaders import PyPDFLoader\n",
    "        print(f\"Loading document from {file}\")\n",
    "        loader = PyPDFLoader(file)\n",
    "    elif extension == \".docx\":\n",
    "        from langchain.document_loaders import Docx2txtLoader\n",
    "        print(f\"Loading document from {file}\")\n",
    "        loader = Docx2txtLoader(file)\n",
    "    else:\n",
    "        raise ValueError(f\"Unsupported file extension: {extension}\")\n",
    "    data = loader.load()\n",
    "    return data"
   ]
  },
  {
   "cell_type": "code",
   "execution_count": 8,
   "id": "955fb091",
   "metadata": {},
   "outputs": [
    {
     "name": "stdout",
     "output_type": "stream",
     "text": [
      "Loading document from files/constitution.pdf\n",
      "C O N S T I T U T I O N O F T H E U N I T E D S T A T E S  \n",
      " \n",
      " \n",
      " \n",
      " \n",
      "We the People of the United States, in Order to form a \n",
      "more perfect Union, establish Justice, insure domestic \n",
      "Tranquility, provide for the common defence, promote \n",
      "the general Welfare, and secure the Blessings of Liberty to \n",
      "ourselves and our Posterity, do ordain and establish this \n",
      "Constitution for the United States of America  \n",
      " \n",
      " \n",
      "Article.  I. \n",
      "SECTION. 1 \n",
      "All legislative Powers herein granted shall be vested in a \n",
      "Congress of the United States, which shall consist of a Sen- \n",
      "ate and House of Representatives. \n",
      "SECTION. 2 \n",
      "The House of Representatives shall be composed of Mem- \n",
      "bers chosen every second Year by the People of the several \n",
      "States, and the Electors in each State shall have the Qualifi- \n",
      "cations requisite for Electors of the most numerous Branch \n",
      "of the State Legislature. \n",
      "No Person shall be a Representative who shall not have \n",
      "attained to the Age of twenty five Years, and been seven \n",
      "Years a Citizen of the United States, and who shall not, \n",
      "when elected, be an Inhabitant of that State in which he \n",
      "shall be chosen. \n",
      "[Representatives and direct Taxes shall be apportioned \n",
      "among the several States which may be included within \n",
      "this Union, according to their respective Numbers, which \n",
      "shall be determined by adding to the whole Number of \n",
      "free Persons, including those bound to Service for a Term \n",
      "of Years, and excluding Indians not taxed, three fifths of \n",
      "all other Persons.]* The actual Enumeration shall be made \n",
      "within three Years after the first Meeting of the Congress \n",
      "of the United States, and within every subsequent Term of \n",
      "ten Years, in such Manner as they shall by Law direct. The \n",
      "Number of Representatives shall not exceed one for every \n",
      "thirty Thousand, but each State shall have at Least one \n",
      "Representative; and until such enumeration shall be made, \n",
      "the State of New Hampshire shall be entitled to chuse \n",
      "three, Massachusetts eight, Rhode-Island and Providence \n",
      "Plantations one, Connecticut five, New-York six, New \n",
      "Jersey four, Pennsylvania eight, Delaware one, Maryland \n",
      "six, Virginia ten, North Carolina five, South Carolina five, \n",
      "and Georgia three. \n",
      "When vacancies happen in the Representation from any \n",
      "State, the Executive Authority thereof shall issue Writs of \n",
      "Election to fill such Vacancies. \n",
      "The House of Representatives shall chuse their \n",
      "Speaker and other Officers; and shall have the sole \n",
      "Power of Impeachment. \n",
      "SECTION. 3 \n",
      "The Senate of the United States shall be composed of two \n",
      "Senators from each State, [chosen by the Legislature there- \n",
      "of,]* for six Years; and each Senator shall have one Vote. \n",
      "Immediately after they shall be assembled in Consequence \n",
      "of the first Election, they shall be divided as equally as may \n",
      "be into three Classes. The Seats of the Senators of the first \n",
      "Class shall be vacated at the Expiration of the second Year, \n",
      "of the second Class at the Expiration of the fourth Year, and \n",
      "of the third Class at the Expiration of the sixth Year, so that \n",
      "one third may be chosen every second Year; [and if Vacan- \n",
      "cies happen by Resignation, or otherwise, during the Recess \n",
      "of the Legislature of any State, the Executive thereof may \n",
      "make temporary Appointments until the next Meeting of \n",
      "the Legislature, which shall then fill such Vacancies.]*\n"
     ]
    }
   ],
   "source": [
    "data = load_document(\"files/constitution.pdf\")\n",
    "print(data[1].page_content)  # Print content of the second page"
   ]
  },
  {
   "cell_type": "code",
   "execution_count": 9,
   "id": "fcb881aa",
   "metadata": {},
   "outputs": [
    {
     "name": "stdout",
     "output_type": "stream",
     "text": [
      "Document has 19 pages.\n",
      "There are 13 metadata fields on the first page.\n"
     ]
    }
   ],
   "source": [
    "print(f\"Document has {len(data)} pages.\")\n",
    "print(f\"There are {len(data[0].metadata)} metadata fields on the first page.\")"
   ]
  },
  {
   "cell_type": "code",
   "execution_count": 12,
   "id": "c0a8428a",
   "metadata": {},
   "outputs": [
    {
     "name": "stdout",
     "output_type": "stream",
     "text": [
      "Loading document from files/Sam_Villasmith_Resume_2025 _Dev.docx\n",
      "SAMUEL VILLA-SMITH, MBA\n",
      "\n",
      "Senior Software Engineer\n",
      "\n",
      "📧 svillasmith2@gmail.com | 📱 (806) 440-2215 | 🏠 Fritch, TX\n",
      "\n",
      "🔗 https://www.linkedin.com/in/samuel-villa-smith-mbaa803a0109  | 🌐 https://github.com/samvillasmith | \n",
      "\n",
      "\n",
      "\n",
      "PROFESSIONAL SUMMARY\n",
      "\n",
      "Experienced Senior Software Engineer with strong background in secure cloud-native applications and full-stack development. Data-driven PhD student in Information Technology with expertise in AI, Machine Learning, and Natural Language Processing (NLP). Combines technical expertise with business acumen to architect and develop robust, security-first web and mobile solutions. AWS Solutions Architect certified with proven experience in implementing defensive security measures and optimizing application performance.\n",
      "\n",
      "\n",
      "\n",
      "\n",
      "\n",
      "TECHNICAL SKILLS\n",
      "\n",
      "Development: React, TypeScript, Next.js, Node.js, Tailwind CSS, Shadcn UI, T3 Stack, Full- Stack Development\n",
      "\n",
      "Data & AI: Advanced Analytics, Data Visualization (Matplotlib, Seaborn), Machine Learning, NLP, Scikit-learn, RAG, Langchain, Vector databases (Pinecone, Upstash)\n",
      "\n",
      "Cloud & DevOps: AWS, Vercel, CI/CD, Microservices, Serverless Architectures, DevSecOps Security: Application Security, Penetration Testing, Vulnerability Assessment, Identity & Access Management\n",
      "\n",
      "Database: MySQL, MongoDB, Prisma ORM, SQL \n",
      "\n",
      "Programming: Python, Java, TypeScript, JavaScript\n",
      "\n",
      "\n",
      "\n",
      "PROFESSIONAL EXPERIENCE\n",
      "\n",
      "Principal Full-Stack Software Engineer\n",
      "\n",
      "Masada Systems (Self-employed) \n",
      "\n",
      "(October 2024 - Present) Amarillo, Texas (Hybrid)\n",
      "\n",
      "\n",
      "\n",
      "\tArchitects and develops secure web and mobile solutions as an independent full-stack developer, specializing in hardened T3 stack applications\n",
      "\n",
      "\tEngineer security-first frontend experiences using React, TypeScript, Next.js, Tailwind, and Shadcn UI\n",
      "\n",
      "\tImplement fortified backend solutions through Prisma with encrypted MySQL and MongoDB databases\n",
      "\n",
      "\tSecure large language models (LLMs) and conversational AI tools with robust authentication, rate limiting, and input validation\n",
      "\n",
      "\tDeploy and maintain production-grade applications on AWS and Vercel platforms, implementing comprehensive DevSecOps practices\n",
      "\n",
      "\tDevelop responsive applications with defense-in-depth strategies, ensuring protection of sensitive data while maintaining high performance standards\n",
      "\n",
      "Senior Software Engineer\n",
      "\n",
      "Oasis Technology & Engineering (Astrion) \n",
      "\n",
      "(August 2020 - April 2024) San Antonio, TX (Remote)\n",
      "\n",
      "\n",
      "\n",
      "\tSpearheaded development and modernization of cloud-native mobile and web applications for a major government client\n",
      "\n",
      "\tDesigned and implemented cloud-based architectures using innovative paradigms, enhancing application security and user satisfaction\n",
      "\n",
      "\tCollaborated with cross-functional teams to lead data-driven product changes using Agile methodologies\n",
      "\n",
      "\tConducted data analysis to provide insights and recommendations for architectural, policy, and process improvements\n",
      "\n",
      "\tTransformed business goals and end-user needs into product strategy\n",
      "\n",
      "\tParticipated in software vendor selection, program decision support, and MVP development\n",
      "\n",
      "\tMentored junior and mid-level personnel while ensuring project quality, security, and compliance requirements\n",
      "\n",
      "\n",
      "\n",
      "Freelance Software Engineer \n",
      "\n",
      "Masada Systems \n",
      "\n",
      "(June 2016 - February 2021) Amarillo, TX and Be'er Sheva, Israel (Remote)\n",
      "\n",
      "\tDirected digital transformation for a nonprofit, enhancing IT alignment through the launch of a web app\n",
      "\n",
      "\tManaged Agile cross-functional teams, turning business goals into actionable product strategies\n",
      "\n",
      "\tLed major data migration effort to overhaul organization's data management systems, improving security\n",
      "\n",
      "\t\n",
      "\n",
      "NOTABLE PROJECTS\n",
      "\n",
      "\n",
      "\n",
      "AI Companion Platform (August 2025-Present)\n",
      "\n",
      "\tEngineered a sophisticated AI companion platform featuring 10 specialized chatbot caegories\n",
      "\n",
      "\tBuilt custom companion creation functionality with React, TypeScript, and Next.js\n",
      "\n",
      "\tDeveloped robust backend using PostgreSQL, Prisma ORM, and OpenAI integration\n",
      "\n",
      "\tImplemented user authentication and Stripe integration for premium features\n",
      "\n",
      "\tCreated engaging, personalized conversational AI experiences\n",
      "\n",
      "Coats-Music.com (October 2024 - Present)\n",
      "\n",
      "\tBuilt a comprehensive virtual guitar learning application as full-stack principal software engineer\n",
      "\n",
      "\tImplemented the T3 stack (TypeScript, Tailwind, tRPC) for a type-safe, modern architecture\n",
      "\n",
      "\tDeployed and maintained the application on Vercel, ensuring optimal performance\n",
      "\n",
      "\tManaged entire project lifecycle from conception to deployment\n",
      "\n",
      "\n",
      "\n",
      "\n",
      "\n",
      "EDUCATION\n",
      "\n",
      "Doctor of Philosophy (PhD) in Information Technology (Expected 2026)\n",
      "\n",
      "University of the Cumberlands\n",
      "\n",
      "\n",
      "\n",
      "Master of Business Administration (MBA)\n",
      "\n",
      "Liberty University, 2019\n",
      "\n",
      "\n",
      "\n",
      "Bachelor of Science (B.S) in Interdisciplinary Studies\n",
      "\n",
      "Business Administration & Criminal Justice\n",
      "\n",
      "Liberty University, 2016\n",
      "\n",
      "\n",
      "\n",
      "\n",
      "\n",
      "CERTIFICATIONS\n",
      "\n",
      "\tAWS Solutions Architect - Associate (July 2022 - July 2025)\n",
      "\n",
      "\tCompTIA Security+ (April 2019 - April 2028)\n"
     ]
    }
   ],
   "source": [
    "data_docx = load_document(\"files/Sam_Villasmith_Resume_2025 _Dev.docx\")\n",
    "print(data_docx[0].page_content)  # Print content of the first page"
   ]
  },
  {
   "cell_type": "markdown",
   "id": "d45945f0",
   "metadata": {},
   "source": [
    "## Service Loaders"
   ]
  },
  {
   "cell_type": "code",
   "execution_count": 13,
   "id": "855ac7e6",
   "metadata": {},
   "outputs": [],
   "source": [
    "def load_From_wikipedia(query, lang=\"en\", load_max_docs=3):\n",
    "    from langchain.document_loaders import WikipediaLoader\n",
    "    print(f\"Loading document from Wikipedia for query: {query}\")\n",
    "    loader = WikipediaLoader(query=query, lang=lang, load_max_docs=load_max_docs)\n",
    "    data = loader.load()\n",
    "    return data"
   ]
  },
  {
   "cell_type": "code",
   "execution_count": 14,
   "id": "47dc333d",
   "metadata": {},
   "outputs": [
    {
     "name": "stdout",
     "output_type": "stream",
     "text": [
      "Loading document from Wikipedia for query: Artificial Intelligence\n",
      "Artificial intelligence (AI) is the capability of computational systems to perform tasks typically associated with human intelligence, such as learning, reasoning, problem-solving, perception, and decision-making. It is a field of research in computer science that develops and studies methods and software that enable machines to perceive their environment and use learning and intelligence to take actions that maximize their chances of achieving defined goals.\n",
      "High-profile applications of AI include advanced web search engines (e.g., Google Search); recommendation systems (used by YouTube, Amazon, and Netflix); virtual assistants (e.g., Google Assistant, Siri, and Alexa); autonomous vehicles (e.g., Waymo); generative and creative tools (e.g., language models and AI art); and superhuman play and analysis in strategy games (e.g., chess and Go). However, many AI applications are not perceived as AI: \"A lot of cutting edge AI has filtered into general applications, often without being called AI because once something becomes useful enough and common enough it's not labeled AI anymore.\"\n",
      "Various subfields of AI research are centered around particular goals and the use of particular tools. The traditional goals of AI research include learning, reasoning, knowledge representation, planning, natural language processing, perception, and support for robotics. To reach these goals, AI researchers have adapted and integrated a wide range of techniques, including search and mathematical optimization, formal logic, artificial neural networks, and methods based on statistics, operations research, and economics. AI also draws upon psychology, linguistics, philosophy, neuroscience, and other fields. Some companies, such as OpenAI, Google DeepMind and Meta, aim to create artificial general intelligence (AGI)—AI that can complete virtually any cognitive task at least as well as a human.\n",
      "Artificial intelligence was founded as an academic discipline in 1956, and the field went through multiple cycles of optimism throughout its history, followed by periods of disappointment and loss of funding, known as AI winters. Funding and interest vastly increased after 2012 when graphics processing units started being used to accelerate neural networks and deep learning outperformed previous AI techniques. This growth accelerated further after 2017 with the transformer architecture. In the 2020s, an ongoing period of rapid progress in advanced generative AI became known as the AI boom. Generative AI's ability to create and modify content has led to several unintended consequences and harms, which has raised ethical concerns about AI's long-term effects and potential existential risks, prompting discussions about regulatory policies to ensure the safety and benefits of the technology.\n",
      "\n",
      "\n",
      "== Goals ==\n",
      "The general problem of simulating (or creating) intelligence has been broken into subproblems. These consist of particular traits or capabilities that researchers expect an intelligent system to display. The traits described below have received the most attention and cover the scope of AI research.\n",
      "\n",
      "\n",
      "=== Reasoning and problem-solving ===\n",
      "Early researchers developed algorithms that imitated step-by-step reasoning that humans use when they solve puzzles or make logical deductions. By the late 1980s and 1990s, methods were developed for dealing with uncertain or incomplete information, employing concepts from probability and economics.\n",
      "Many of these algorithms are insufficient for solving large reasoning problems because they experience a \"combinatorial explosion\": They become exponentially slower as the problems grow. Even humans rarely use the step-by-step deduction that early AI research could model. They solve most of their problems using fast, intuitive judgments. Accurate and efficient reasoning is an unsolved problem.\n",
      "\n",
      "\n",
      "=== Knowledge representation ===\n",
      "\n",
      "Knowledge representation and knowledge engineering allow AI programs to answer questions intelligently and make \n"
     ]
    }
   ],
   "source": [
    "data_wiki = load_From_wikipedia(\"Artificial Intelligence\")\n",
    "print(data_wiki[0].page_content)  # Print content of the first Wikipedia article"
   ]
  },
  {
   "cell_type": "code",
   "execution_count": 15,
   "id": "c3316161",
   "metadata": {},
   "outputs": [],
   "source": [
    "def chunk_data(data, chunk_size=256, chunk_overlap=0):\n",
    "    from langchain.text_splitter import RecursiveCharacterTextSplitter\n",
    "    text_splitter = RecursiveCharacterTextSplitter(\n",
    "        chunk_size=chunk_size,\n",
    "        chunk_overlap=chunk_overlap,\n",
    "        length_function=len\n",
    "    )\n",
    "    chunks = text_splitter.split_documents(data)\n",
    "    return chunks"
   ]
  },
  {
   "cell_type": "code",
   "execution_count": 16,
   "id": "3771ca16",
   "metadata": {},
   "outputs": [],
   "source": [
    "chunks = chunk_data(data)"
   ]
  },
  {
   "cell_type": "code",
   "execution_count": 19,
   "id": "2ec1864c",
   "metadata": {},
   "outputs": [
    {
     "name": "stdout",
     "output_type": "stream",
     "text": [
      "Document has 236 chunks after splitting.\n"
     ]
    }
   ],
   "source": [
    "print(f\"Document has {len(chunks)} chunks after splitting.\")"
   ]
  },
  {
   "cell_type": "code",
   "execution_count": 23,
   "id": "34593ed4",
   "metadata": {},
   "outputs": [
    {
     "name": "stdout",
     "output_type": "stream",
     "text": [
      "page_content='Representative; and until such enumeration shall be made, \n",
      "the State of New Hampshire shall be entitled to chuse \n",
      "three, Massachusetts eight, Rhode-Island and Providence \n",
      "Plantations one, Connecticut five, New-York six, New' metadata={'producer': 'Adobe PDF Library 23.1.125', 'creator': 'Acrobat PDFMaker 23 for Word', 'creationdate': '2023-04-10T12:53:44-04:00', 'company': '', 'created': 'D:20030612', 'lastsaved': 'D:20230409', 'moddate': '2023-04-10T13:09:52-04:00', 'sourcemodified': 'D:20230410165309', 'title': 'constitution_pdf2', 'source': 'files/constitution.pdf', 'total_pages': 19, 'page': 1, 'page_label': '2'}\n"
     ]
    }
   ],
   "source": [
    "print(chunks[9])  # Print the first chunk"
   ]
  },
  {
   "cell_type": "code",
   "execution_count": null,
   "id": "dd681f1c",
   "metadata": {},
   "outputs": [],
   "source": []
  }
 ],
 "metadata": {
  "kernelspec": {
   "display_name": "qavenv",
   "language": "python",
   "name": "python3"
  },
  "language_info": {
   "codemirror_mode": {
    "name": "ipython",
    "version": 3
   },
   "file_extension": ".py",
   "mimetype": "text/x-python",
   "name": "python",
   "nbconvert_exporter": "python",
   "pygments_lexer": "ipython3",
   "version": "3.13.5"
  }
 },
 "nbformat": 4,
 "nbformat_minor": 5
}
