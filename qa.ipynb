{
 "cells": [
  {
   "cell_type": "markdown",
   "id": "19c2b75e",
   "metadata": {},
   "source": [
    "# Question Answering Project - Basic Overview of Technology\n",
    "This project involves building a question answering system using a pre-trained language model. The system will take a context passage and a question as input and generate an answer based on the provided context."
   ]
  },
  {
   "cell_type": "code",
   "execution_count": 6,
   "id": "aa768a3c",
   "metadata": {},
   "outputs": [],
   "source": [
    "from dotenv import load_dotenv, find_dotenv\n",
    "import os\n",
    "load_dotenv(find_dotenv(), override=True)\n",
    "api_key = os.getenv(\"OPENAI_API_KEY\")"
   ]
  },
  {
   "cell_type": "code",
   "execution_count": 7,
   "id": "45450bb3",
   "metadata": {},
   "outputs": [],
   "source": [
    "def load_document(file):\n",
    "    name, extension = os.path.splitext(file)\n",
    "    if extension == \".pdf\":\n",
    "        from langchain.document_loaders import PyPDFLoader\n",
    "        print(f\"Loading document from {file}\")\n",
    "        loader = PyPDFLoader(file)\n",
    "    elif extension == \".docx\":\n",
    "        from langchain.document_loaders import Docx2txtLoader\n",
    "        print(f\"Loading document from {file}\")\n",
    "        loader = Docx2txtLoader(file)\n",
    "    else:\n",
    "        raise ValueError(f\"Unsupported file extension: {extension}\")\n",
    "    data = loader.load()\n",
    "    return data"
   ]
  },
  {
   "cell_type": "code",
   "execution_count": 8,
   "id": "955fb091",
   "metadata": {},
   "outputs": [
    {
     "name": "stdout",
     "output_type": "stream",
     "text": [
      "Loading document from files/constitution.pdf\n",
      "C O N S T I T U T I O N O F T H E U N I T E D S T A T E S  \n",
      " \n",
      " \n",
      " \n",
      " \n",
      "We the People of the United States, in Order to form a \n",
      "more perfect Union, establish Justice, insure domestic \n",
      "Tranquility, provide for the common defence, promote \n",
      "the general Welfare, and secure the Blessings of Liberty to \n",
      "ourselves and our Posterity, do ordain and establish this \n",
      "Constitution for the United States of America  \n",
      " \n",
      " \n",
      "Article.  I. \n",
      "SECTION. 1 \n",
      "All legislative Powers herein granted shall be vested in a \n",
      "Congress of the United States, which shall consist of a Sen- \n",
      "ate and House of Representatives. \n",
      "SECTION. 2 \n",
      "The House of Representatives shall be composed of Mem- \n",
      "bers chosen every second Year by the People of the several \n",
      "States, and the Electors in each State shall have the Qualifi- \n",
      "cations requisite for Electors of the most numerous Branch \n",
      "of the State Legislature. \n",
      "No Person shall be a Representative who shall not have \n",
      "attained to the Age of twenty five Years, and been seven \n",
      "Years a Citizen of the United States, and who shall not, \n",
      "when elected, be an Inhabitant of that State in which he \n",
      "shall be chosen. \n",
      "[Representatives and direct Taxes shall be apportioned \n",
      "among the several States which may be included within \n",
      "this Union, according to their respective Numbers, which \n",
      "shall be determined by adding to the whole Number of \n",
      "free Persons, including those bound to Service for a Term \n",
      "of Years, and excluding Indians not taxed, three fifths of \n",
      "all other Persons.]* The actual Enumeration shall be made \n",
      "within three Years after the first Meeting of the Congress \n",
      "of the United States, and within every subsequent Term of \n",
      "ten Years, in such Manner as they shall by Law direct. The \n",
      "Number of Representatives shall not exceed one for every \n",
      "thirty Thousand, but each State shall have at Least one \n",
      "Representative; and until such enumeration shall be made, \n",
      "the State of New Hampshire shall be entitled to chuse \n",
      "three, Massachusetts eight, Rhode-Island and Providence \n",
      "Plantations one, Connecticut five, New-York six, New \n",
      "Jersey four, Pennsylvania eight, Delaware one, Maryland \n",
      "six, Virginia ten, North Carolina five, South Carolina five, \n",
      "and Georgia three. \n",
      "When vacancies happen in the Representation from any \n",
      "State, the Executive Authority thereof shall issue Writs of \n",
      "Election to fill such Vacancies. \n",
      "The House of Representatives shall chuse their \n",
      "Speaker and other Officers; and shall have the sole \n",
      "Power of Impeachment. \n",
      "SECTION. 3 \n",
      "The Senate of the United States shall be composed of two \n",
      "Senators from each State, [chosen by the Legislature there- \n",
      "of,]* for six Years; and each Senator shall have one Vote. \n",
      "Immediately after they shall be assembled in Consequence \n",
      "of the first Election, they shall be divided as equally as may \n",
      "be into three Classes. The Seats of the Senators of the first \n",
      "Class shall be vacated at the Expiration of the second Year, \n",
      "of the second Class at the Expiration of the fourth Year, and \n",
      "of the third Class at the Expiration of the sixth Year, so that \n",
      "one third may be chosen every second Year; [and if Vacan- \n",
      "cies happen by Resignation, or otherwise, during the Recess \n",
      "of the Legislature of any State, the Executive thereof may \n",
      "make temporary Appointments until the next Meeting of \n",
      "the Legislature, which shall then fill such Vacancies.]*\n"
     ]
    }
   ],
   "source": [
    "data = load_document(\"files/constitution.pdf\")\n",
    "print(data[1].page_content)  # Print content of the second page"
   ]
  },
  {
   "cell_type": "code",
   "execution_count": 9,
   "id": "fcb881aa",
   "metadata": {},
   "outputs": [
    {
     "name": "stdout",
     "output_type": "stream",
     "text": [
      "Document has 19 pages.\n",
      "There are 13 metadata fields on the first page.\n"
     ]
    }
   ],
   "source": [
    "print(f\"Document has {len(data)} pages.\")\n",
    "print(f\"There are {len(data[0].metadata)} metadata fields on the first page.\")"
   ]
  },
  {
   "cell_type": "code",
   "execution_count": 12,
   "id": "c0a8428a",
   "metadata": {},
   "outputs": [
    {
     "name": "stdout",
     "output_type": "stream",
     "text": [
      "Loading document from files/Sam_Villasmith_Resume_2025 _Dev.docx\n",
      "SAMUEL VILLA-SMITH, MBA\n",
      "\n",
      "Senior Software Engineer\n",
      "\n",
      "📧 svillasmith2@gmail.com | 📱 (806) 440-2215 | 🏠 Fritch, TX\n",
      "\n",
      "🔗 https://www.linkedin.com/in/samuel-villa-smith-mbaa803a0109  | 🌐 https://github.com/samvillasmith | \n",
      "\n",
      "\n",
      "\n",
      "PROFESSIONAL SUMMARY\n",
      "\n",
      "Experienced Senior Software Engineer with strong background in secure cloud-native applications and full-stack development. Data-driven PhD student in Information Technology with expertise in AI, Machine Learning, and Natural Language Processing (NLP). Combines technical expertise with business acumen to architect and develop robust, security-first web and mobile solutions. AWS Solutions Architect certified with proven experience in implementing defensive security measures and optimizing application performance.\n",
      "\n",
      "\n",
      "\n",
      "\n",
      "\n",
      "TECHNICAL SKILLS\n",
      "\n",
      "Development: React, TypeScript, Next.js, Node.js, Tailwind CSS, Shadcn UI, T3 Stack, Full- Stack Development\n",
      "\n",
      "Data & AI: Advanced Analytics, Data Visualization (Matplotlib, Seaborn), Machine Learning, NLP, Scikit-learn, RAG, Langchain, Vector databases (Pinecone, Upstash)\n",
      "\n",
      "Cloud & DevOps: AWS, Vercel, CI/CD, Microservices, Serverless Architectures, DevSecOps Security: Application Security, Penetration Testing, Vulnerability Assessment, Identity & Access Management\n",
      "\n",
      "Database: MySQL, MongoDB, Prisma ORM, SQL \n",
      "\n",
      "Programming: Python, Java, TypeScript, JavaScript\n",
      "\n",
      "\n",
      "\n",
      "PROFESSIONAL EXPERIENCE\n",
      "\n",
      "Principal Full-Stack Software Engineer\n",
      "\n",
      "Masada Systems (Self-employed) \n",
      "\n",
      "(October 2024 - Present) Amarillo, Texas (Hybrid)\n",
      "\n",
      "\n",
      "\n",
      "\tArchitects and develops secure web and mobile solutions as an independent full-stack developer, specializing in hardened T3 stack applications\n",
      "\n",
      "\tEngineer security-first frontend experiences using React, TypeScript, Next.js, Tailwind, and Shadcn UI\n",
      "\n",
      "\tImplement fortified backend solutions through Prisma with encrypted MySQL and MongoDB databases\n",
      "\n",
      "\tSecure large language models (LLMs) and conversational AI tools with robust authentication, rate limiting, and input validation\n",
      "\n",
      "\tDeploy and maintain production-grade applications on AWS and Vercel platforms, implementing comprehensive DevSecOps practices\n",
      "\n",
      "\tDevelop responsive applications with defense-in-depth strategies, ensuring protection of sensitive data while maintaining high performance standards\n",
      "\n",
      "Senior Software Engineer\n",
      "\n",
      "Oasis Technology & Engineering (Astrion) \n",
      "\n",
      "(August 2020 - April 2024) San Antonio, TX (Remote)\n",
      "\n",
      "\n",
      "\n",
      "\tSpearheaded development and modernization of cloud-native mobile and web applications for a major government client\n",
      "\n",
      "\tDesigned and implemented cloud-based architectures using innovative paradigms, enhancing application security and user satisfaction\n",
      "\n",
      "\tCollaborated with cross-functional teams to lead data-driven product changes using Agile methodologies\n",
      "\n",
      "\tConducted data analysis to provide insights and recommendations for architectural, policy, and process improvements\n",
      "\n",
      "\tTransformed business goals and end-user needs into product strategy\n",
      "\n",
      "\tParticipated in software vendor selection, program decision support, and MVP development\n",
      "\n",
      "\tMentored junior and mid-level personnel while ensuring project quality, security, and compliance requirements\n",
      "\n",
      "\n",
      "\n",
      "Freelance Software Engineer \n",
      "\n",
      "Masada Systems \n",
      "\n",
      "(June 2016 - February 2021) Amarillo, TX and Be'er Sheva, Israel (Remote)\n",
      "\n",
      "\tDirected digital transformation for a nonprofit, enhancing IT alignment through the launch of a web app\n",
      "\n",
      "\tManaged Agile cross-functional teams, turning business goals into actionable product strategies\n",
      "\n",
      "\tLed major data migration effort to overhaul organization's data management systems, improving security\n",
      "\n",
      "\t\n",
      "\n",
      "NOTABLE PROJECTS\n",
      "\n",
      "\n",
      "\n",
      "AI Companion Platform (August 2025-Present)\n",
      "\n",
      "\tEngineered a sophisticated AI companion platform featuring 10 specialized chatbot caegories\n",
      "\n",
      "\tBuilt custom companion creation functionality with React, TypeScript, and Next.js\n",
      "\n",
      "\tDeveloped robust backend using PostgreSQL, Prisma ORM, and OpenAI integration\n",
      "\n",
      "\tImplemented user authentication and Stripe integration for premium features\n",
      "\n",
      "\tCreated engaging, personalized conversational AI experiences\n",
      "\n",
      "Coats-Music.com (October 2024 - Present)\n",
      "\n",
      "\tBuilt a comprehensive virtual guitar learning application as full-stack principal software engineer\n",
      "\n",
      "\tImplemented the T3 stack (TypeScript, Tailwind, tRPC) for a type-safe, modern architecture\n",
      "\n",
      "\tDeployed and maintained the application on Vercel, ensuring optimal performance\n",
      "\n",
      "\tManaged entire project lifecycle from conception to deployment\n",
      "\n",
      "\n",
      "\n",
      "\n",
      "\n",
      "EDUCATION\n",
      "\n",
      "Doctor of Philosophy (PhD) in Information Technology (Expected 2026)\n",
      "\n",
      "University of the Cumberlands\n",
      "\n",
      "\n",
      "\n",
      "Master of Business Administration (MBA)\n",
      "\n",
      "Liberty University, 2019\n",
      "\n",
      "\n",
      "\n",
      "Bachelor of Science (B.S) in Interdisciplinary Studies\n",
      "\n",
      "Business Administration & Criminal Justice\n",
      "\n",
      "Liberty University, 2016\n",
      "\n",
      "\n",
      "\n",
      "\n",
      "\n",
      "CERTIFICATIONS\n",
      "\n",
      "\tAWS Solutions Architect - Associate (July 2022 - July 2025)\n",
      "\n",
      "\tCompTIA Security+ (April 2019 - April 2028)\n"
     ]
    }
   ],
   "source": [
    "data_docx = load_document(\"files/Sam_Villasmith_Resume_2025 _Dev.docx\")\n",
    "print(data_docx[0].page_content)  # Print content of the first page"
   ]
  },
  {
   "cell_type": "markdown",
   "id": "d45945f0",
   "metadata": {},
   "source": [
    "## Service Loaders"
   ]
  },
  {
   "cell_type": "code",
   "execution_count": 13,
   "id": "855ac7e6",
   "metadata": {},
   "outputs": [],
   "source": [
    "def load_From_wikipedia(query, lang=\"en\", load_max_docs=3):\n",
    "    from langchain.document_loaders import WikipediaLoader\n",
    "    print(f\"Loading document from Wikipedia for query: {query}\")\n",
    "    loader = WikipediaLoader(query=query, lang=lang, load_max_docs=load_max_docs)\n",
    "    data = loader.load()\n",
    "    return data"
   ]
  },
  {
   "cell_type": "code",
   "execution_count": 14,
   "id": "47dc333d",
   "metadata": {},
   "outputs": [
    {
     "name": "stdout",
     "output_type": "stream",
     "text": [
      "Loading document from Wikipedia for query: Artificial Intelligence\n",
      "Artificial intelligence (AI) is the capability of computational systems to perform tasks typically associated with human intelligence, such as learning, reasoning, problem-solving, perception, and decision-making. It is a field of research in computer science that develops and studies methods and software that enable machines to perceive their environment and use learning and intelligence to take actions that maximize their chances of achieving defined goals.\n",
      "High-profile applications of AI include advanced web search engines (e.g., Google Search); recommendation systems (used by YouTube, Amazon, and Netflix); virtual assistants (e.g., Google Assistant, Siri, and Alexa); autonomous vehicles (e.g., Waymo); generative and creative tools (e.g., language models and AI art); and superhuman play and analysis in strategy games (e.g., chess and Go). However, many AI applications are not perceived as AI: \"A lot of cutting edge AI has filtered into general applications, often without being called AI because once something becomes useful enough and common enough it's not labeled AI anymore.\"\n",
      "Various subfields of AI research are centered around particular goals and the use of particular tools. The traditional goals of AI research include learning, reasoning, knowledge representation, planning, natural language processing, perception, and support for robotics. To reach these goals, AI researchers have adapted and integrated a wide range of techniques, including search and mathematical optimization, formal logic, artificial neural networks, and methods based on statistics, operations research, and economics. AI also draws upon psychology, linguistics, philosophy, neuroscience, and other fields. Some companies, such as OpenAI, Google DeepMind and Meta, aim to create artificial general intelligence (AGI)—AI that can complete virtually any cognitive task at least as well as a human.\n",
      "Artificial intelligence was founded as an academic discipline in 1956, and the field went through multiple cycles of optimism throughout its history, followed by periods of disappointment and loss of funding, known as AI winters. Funding and interest vastly increased after 2012 when graphics processing units started being used to accelerate neural networks and deep learning outperformed previous AI techniques. This growth accelerated further after 2017 with the transformer architecture. In the 2020s, an ongoing period of rapid progress in advanced generative AI became known as the AI boom. Generative AI's ability to create and modify content has led to several unintended consequences and harms, which has raised ethical concerns about AI's long-term effects and potential existential risks, prompting discussions about regulatory policies to ensure the safety and benefits of the technology.\n",
      "\n",
      "\n",
      "== Goals ==\n",
      "The general problem of simulating (or creating) intelligence has been broken into subproblems. These consist of particular traits or capabilities that researchers expect an intelligent system to display. The traits described below have received the most attention and cover the scope of AI research.\n",
      "\n",
      "\n",
      "=== Reasoning and problem-solving ===\n",
      "Early researchers developed algorithms that imitated step-by-step reasoning that humans use when they solve puzzles or make logical deductions. By the late 1980s and 1990s, methods were developed for dealing with uncertain or incomplete information, employing concepts from probability and economics.\n",
      "Many of these algorithms are insufficient for solving large reasoning problems because they experience a \"combinatorial explosion\": They become exponentially slower as the problems grow. Even humans rarely use the step-by-step deduction that early AI research could model. They solve most of their problems using fast, intuitive judgments. Accurate and efficient reasoning is an unsolved problem.\n",
      "\n",
      "\n",
      "=== Knowledge representation ===\n",
      "\n",
      "Knowledge representation and knowledge engineering allow AI programs to answer questions intelligently and make \n"
     ]
    }
   ],
   "source": [
    "data_wiki = load_From_wikipedia(\"Artificial Intelligence\")\n",
    "print(data_wiki[0].page_content)  # Print content of the first Wikipedia article"
   ]
  },
  {
   "cell_type": "code",
   "execution_count": 15,
   "id": "c3316161",
   "metadata": {},
   "outputs": [],
   "source": [
    "def chunk_data(data, chunk_size=256, chunk_overlap=0):\n",
    "    from langchain.text_splitter import RecursiveCharacterTextSplitter\n",
    "    text_splitter = RecursiveCharacterTextSplitter(\n",
    "        chunk_size=chunk_size,\n",
    "        chunk_overlap=chunk_overlap,\n",
    "        length_function=len\n",
    "    )\n",
    "    chunks = text_splitter.split_documents(data)\n",
    "    return chunks"
   ]
  },
  {
   "cell_type": "code",
   "execution_count": 16,
   "id": "3771ca16",
   "metadata": {},
   "outputs": [],
   "source": [
    "chunks = chunk_data(data)"
   ]
  },
  {
   "cell_type": "code",
   "execution_count": 19,
   "id": "2ec1864c",
   "metadata": {},
   "outputs": [
    {
     "name": "stdout",
     "output_type": "stream",
     "text": [
      "Document has 236 chunks after splitting.\n"
     ]
    }
   ],
   "source": [
    "print(f\"Document has {len(chunks)} chunks after splitting.\")"
   ]
  },
  {
   "cell_type": "code",
   "execution_count": 23,
   "id": "34593ed4",
   "metadata": {},
   "outputs": [
    {
     "name": "stdout",
     "output_type": "stream",
     "text": [
      "page_content='Representative; and until such enumeration shall be made, \n",
      "the State of New Hampshire shall be entitled to chuse \n",
      "three, Massachusetts eight, Rhode-Island and Providence \n",
      "Plantations one, Connecticut five, New-York six, New' metadata={'producer': 'Adobe PDF Library 23.1.125', 'creator': 'Acrobat PDFMaker 23 for Word', 'creationdate': '2023-04-10T12:53:44-04:00', 'company': '', 'created': 'D:20030612', 'lastsaved': 'D:20230409', 'moddate': '2023-04-10T13:09:52-04:00', 'sourcemodified': 'D:20230410165309', 'title': 'constitution_pdf2', 'source': 'files/constitution.pdf', 'total_pages': 19, 'page': 1, 'page_label': '2'}\n"
     ]
    }
   ],
   "source": [
    "print(chunks[9])  # Print the first chunk"
   ]
  },
  {
   "cell_type": "markdown",
   "id": "d014d6e3",
   "metadata": {},
   "source": [
    "## Vector Stores"
   ]
  },
  {
   "cell_type": "code",
   "execution_count": 2,
   "id": "dd681f1c",
   "metadata": {},
   "outputs": [],
   "source": [
    "from pinecone import Pinecone\n",
    "pc = Pinecone() "
   ]
  },
  {
   "cell_type": "code",
   "execution_count": 5,
   "id": "836785bc",
   "metadata": {},
   "outputs": [
    {
     "name": "stdout",
     "output_type": "stream",
     "text": [
      "Creating index: qa-docs\n",
      "Index qa-docs created.\n"
     ]
    }
   ],
   "source": [
    "from pinecone import ServerlessSpec\n",
    "\n",
    "index_name = \"qa-docs\"\n",
    "if index_name not in pc.list_indexes().names():\n",
    "    print(f\"Creating index: {index_name}\")\n",
    "    pc.create_index(\n",
    "        name=index_name,  # Changed: use 'name=' keyword argument\n",
    "        dimension=1536,\n",
    "        metric=\"cosine\",\n",
    "        spec=ServerlessSpec(  # Changed: 'spec' instead of 'serverless'\n",
    "            cloud=\"aws\",\n",
    "            region=\"us-east-1\"\n",
    "        )\n",
    "    )\n",
    "    print(f\"Index {index_name} created.\")\n",
    "else:\n",
    "    print(f\"Index {index_name} already exists.\")"
   ]
  },
  {
   "cell_type": "code",
   "execution_count": 7,
   "id": "4cc0c155",
   "metadata": {},
   "outputs": [
    {
     "name": "stderr",
     "output_type": "stream",
     "text": [
      "c:\\Users\\Sam Ben-Yosef\\Desktop\\QA_Doc_App\\qavenv\\Lib\\site-packages\\tqdm\\auto.py:21: TqdmWarning: IProgress not found. Please update jupyter and ipywidgets. See https://ipywidgets.readthedocs.io/en/stable/user_install.html\n",
      "  from .autonotebook import tqdm as notebook_tqdm\n"
     ]
    },
    {
     "data": {
      "text/plain": [
       "{'dimension': 1536,\n",
       " 'index_fullness': 0.0,\n",
       " 'metric': 'cosine',\n",
       " 'namespaces': {},\n",
       " 'total_vector_count': 0,\n",
       " 'vector_type': 'dense'}"
      ]
     },
     "execution_count": 7,
     "metadata": {},
     "output_type": "execute_result"
    }
   ],
   "source": [
    "index = pc.Index(index_name)\n",
    "index.describe_index_stats()"
   ]
  },
  {
   "cell_type": "markdown",
   "id": "ee96ef5d",
   "metadata": {},
   "source": [
    "### Upserting Vectors into Pinecone Index\n",
    "When upserting vectors into a Pinecone index, ensure that the vectors are in the correct format and that the index is properly initialized. Below is an example of how to upsert vectors into a Pinecone index."
   ]
  },
  {
   "cell_type": "code",
   "execution_count": 10,
   "id": "95e12337",
   "metadata": {},
   "outputs": [
    {
     "data": {
      "text/plain": [
       "{'upserted_count': 5}"
      ]
     },
     "execution_count": 10,
     "metadata": {},
     "output_type": "execute_result"
    }
   ],
   "source": [
    "import random\n",
    "# Create 5 vectors, each of dimension 1536\n",
    "vectors = [[random.random() for _ in range(1536)] for _ in range(5)]  # 5 vectors of dimension 1536\n",
    "ids = list('abcde')  # 5 unique IDs\n",
    "index_name = \"qa-docs\"\n",
    "# Pinecone expects a list of (id, vector) tuples\n",
    "index.upsert(vectors=list(zip(ids, vectors)))"
   ]
  },
  {
   "cell_type": "markdown",
   "id": "01779c2d",
   "metadata": {},
   "source": [
    "### Updating Pinecone vectors \n",
    "To update vectors in a Pinecone index, you can use the `upsert` method. If the vector ID already exists in the index, the existing vector will be updated with the new vector data. Here's an example of how to update vectors in a Pinecone index:"
   ]
  },
  {
   "cell_type": "code",
   "execution_count": 11,
   "id": "5537da7f",
   "metadata": {},
   "outputs": [
    {
     "data": {
      "text/plain": [
       "{'upserted_count': 2}"
      ]
     },
     "execution_count": 11,
     "metadata": {},
     "output_type": "execute_result"
    }
   ],
   "source": [
    "index.upsert(vectors=[(\"a\", [0.1]*1536), (\"b\", [0.2]*1536)])  # Example vectors"
   ]
  },
  {
   "cell_type": "markdown",
   "id": "aa9163db",
   "metadata": {},
   "source": [
    "### Fetching a vector by ID\n",
    "To fetch a vector by its ID from a Pinecone index, you can use the `fetch` method. This method retrieves the vector associated with the specified ID. Below is an example of how to fetch a vector by its ID:"
   ]
  },
  {
   "cell_type": "code",
   "execution_count": 12,
   "id": "d1baeb14",
   "metadata": {},
   "outputs": [
    {
     "data": {
      "text/plain": [
       "FetchResponse(namespace='', vectors={'a': Vector(id='a', values=[0.1, 0.1, 0.1, 0.1, 0.1, 0.1, 0.1, 0.1, 0.1, 0.1, 0.1, 0.1, 0.1, 0.1, 0.1, 0.1, 0.1, 0.1, 0.1, 0.1, 0.1, 0.1, 0.1, 0.1, 0.1, 0.1, 0.1, 0.1, 0.1, 0.1, 0.1, 0.1, 0.1, 0.1, 0.1, 0.1, 0.1, 0.1, 0.1, 0.1, 0.1, 0.1, 0.1, 0.1, 0.1, 0.1, 0.1, 0.1, 0.1, 0.1, 0.1, 0.1, 0.1, 0.1, 0.1, 0.1, 0.1, 0.1, 0.1, 0.1, 0.1, 0.1, 0.1, 0.1, 0.1, 0.1, 0.1, 0.1, 0.1, 0.1, 0.1, 0.1, 0.1, 0.1, 0.1, 0.1, 0.1, 0.1, 0.1, 0.1, 0.1, 0.1, 0.1, 0.1, 0.1, 0.1, 0.1, 0.1, 0.1, 0.1, 0.1, 0.1, 0.1, 0.1, 0.1, 0.1, 0.1, 0.1, 0.1, 0.1, 0.1, 0.1, 0.1, 0.1, 0.1, 0.1, 0.1, 0.1, 0.1, 0.1, 0.1, 0.1, 0.1, 0.1, 0.1, 0.1, 0.1, 0.1, 0.1, 0.1, 0.1, 0.1, 0.1, 0.1, 0.1, 0.1, 0.1, 0.1, 0.1, 0.1, 0.1, 0.1, 0.1, 0.1, 0.1, 0.1, 0.1, 0.1, 0.1, 0.1, 0.1, 0.1, 0.1, 0.1, 0.1, 0.1, 0.1, 0.1, 0.1, 0.1, 0.1, 0.1, 0.1, 0.1, 0.1, 0.1, 0.1, 0.1, 0.1, 0.1, 0.1, 0.1, 0.1, 0.1, 0.1, 0.1, 0.1, 0.1, 0.1, 0.1, 0.1, 0.1, 0.1, 0.1, 0.1, 0.1, 0.1, 0.1, 0.1, 0.1, 0.1, 0.1, 0.1, 0.1, 0.1, 0.1, 0.1, 0.1, 0.1, 0.1, 0.1, 0.1, 0.1, 0.1, 0.1, 0.1, 0.1, 0.1, 0.1, 0.1, 0.1, 0.1, 0.1, 0.1, 0.1, 0.1, 0.1, 0.1, 0.1, 0.1, 0.1, 0.1, 0.1, 0.1, 0.1, 0.1, 0.1, 0.1, 0.1, 0.1, 0.1, 0.1, 0.1, 0.1, 0.1, 0.1, 0.1, 0.1, 0.1, 0.1, 0.1, 0.1, 0.1, 0.1, 0.1, 0.1, 0.1, 0.1, 0.1, 0.1, 0.1, 0.1, 0.1, 0.1, 0.1, 0.1, 0.1, 0.1, 0.1, 0.1, 0.1, 0.1, 0.1, 0.1, 0.1, 0.1, 0.1, 0.1, 0.1, 0.1, 0.1, 0.1, 0.1, 0.1, 0.1, 0.1, 0.1, 0.1, 0.1, 0.1, 0.1, 0.1, 0.1, 0.1, 0.1, 0.1, 0.1, 0.1, 0.1, 0.1, 0.1, 0.1, 0.1, 0.1, 0.1, 0.1, 0.1, 0.1, 0.1, 0.1, 0.1, 0.1, 0.1, 0.1, 0.1, 0.1, 0.1, 0.1, 0.1, 0.1, 0.1, 0.1, 0.1, 0.1, 0.1, 0.1, 0.1, 0.1, 0.1, 0.1, 0.1, 0.1, 0.1, 0.1, 0.1, 0.1, 0.1, 0.1, 0.1, 0.1, 0.1, 0.1, 0.1, 0.1, 0.1, 0.1, 0.1, 0.1, 0.1, 0.1, 0.1, 0.1, 0.1, 0.1, 0.1, 0.1, 0.1, 0.1, 0.1, 0.1, 0.1, 0.1, 0.1, 0.1, 0.1, 0.1, 0.1, 0.1, 0.1, 0.1, 0.1, 0.1, 0.1, 0.1, 0.1, 0.1, 0.1, 0.1, 0.1, 0.1, 0.1, 0.1, 0.1, 0.1, 0.1, 0.1, 0.1, 0.1, 0.1, 0.1, 0.1, 0.1, 0.1, 0.1, 0.1, 0.1, 0.1, 0.1, 0.1, 0.1, 0.1, 0.1, 0.1, 0.1, 0.1, 0.1, 0.1, 0.1, 0.1, 0.1, 0.1, 0.1, 0.1, 0.1, 0.1, 0.1, 0.1, 0.1, 0.1, 0.1, 0.1, 0.1, 0.1, 0.1, 0.1, 0.1, 0.1, 0.1, 0.1, 0.1, 0.1, 0.1, 0.1, 0.1, 0.1, 0.1, 0.1, 0.1, 0.1, 0.1, 0.1, 0.1, 0.1, 0.1, 0.1, 0.1, 0.1, 0.1, 0.1, 0.1, 0.1, 0.1, 0.1, 0.1, 0.1, 0.1, 0.1, 0.1, 0.1, 0.1, 0.1, 0.1, 0.1, 0.1, 0.1, 0.1, 0.1, 0.1, 0.1, 0.1, 0.1, 0.1, 0.1, 0.1, 0.1, 0.1, 0.1, 0.1, 0.1, 0.1, 0.1, 0.1, 0.1, 0.1, 0.1, 0.1, 0.1, 0.1, 0.1, 0.1, 0.1, 0.1, 0.1, 0.1, 0.1, 0.1, 0.1, 0.1, 0.1, 0.1, 0.1, 0.1, 0.1, 0.1, 0.1, 0.1, 0.1, 0.1, 0.1, 0.1, 0.1, 0.1, 0.1, 0.1, 0.1, 0.1, 0.1, 0.1, 0.1, 0.1, 0.1, 0.1, 0.1, 0.1, 0.1, 0.1, 0.1, 0.1, 0.1, 0.1, 0.1, 0.1, 0.1, 0.1, 0.1, 0.1, 0.1, 0.1, 0.1, 0.1, 0.1, 0.1, 0.1, 0.1, 0.1, 0.1, 0.1, 0.1, 0.1, 0.1, 0.1, 0.1, 0.1, 0.1, 0.1, 0.1, 0.1, 0.1, 0.1, 0.1, 0.1, 0.1, 0.1, 0.1, 0.1, 0.1, 0.1, 0.1, 0.1, 0.1, 0.1, 0.1, 0.1, 0.1, 0.1, 0.1, 0.1, 0.1, 0.1, 0.1, 0.1, 0.1, 0.1, 0.1, 0.1, 0.1, 0.1, 0.1, 0.1, 0.1, 0.1, 0.1, 0.1, 0.1, 0.1, 0.1, 0.1, 0.1, 0.1, 0.1, 0.1, 0.1, 0.1, 0.1, 0.1, 0.1, 0.1, 0.1, 0.1, 0.1, 0.1, 0.1, 0.1, 0.1, 0.1, 0.1, 0.1, 0.1, 0.1, 0.1, 0.1, 0.1, 0.1, 0.1, 0.1, 0.1, 0.1, 0.1, 0.1, 0.1, 0.1, 0.1, 0.1, 0.1, 0.1, 0.1, 0.1, 0.1, 0.1, 0.1, 0.1, 0.1, 0.1, 0.1, 0.1, 0.1, 0.1, 0.1, 0.1, 0.1, 0.1, 0.1, 0.1, 0.1, 0.1, 0.1, 0.1, 0.1, 0.1, 0.1, 0.1, 0.1, 0.1, 0.1, 0.1, 0.1, 0.1, 0.1, 0.1, 0.1, 0.1, 0.1, 0.1, 0.1, 0.1, 0.1, 0.1, 0.1, 0.1, 0.1, 0.1, 0.1, 0.1, 0.1, 0.1, 0.1, 0.1, 0.1, 0.1, 0.1, 0.1, 0.1, 0.1, 0.1, 0.1, 0.1, 0.1, 0.1, 0.1, 0.1, 0.1, 0.1, 0.1, 0.1, 0.1, 0.1, 0.1, 0.1, 0.1, 0.1, 0.1, 0.1, 0.1, 0.1, 0.1, 0.1, 0.1, 0.1, 0.1, 0.1, 0.1, 0.1, 0.1, 0.1, 0.1, 0.1, 0.1, 0.1, 0.1, 0.1, 0.1, 0.1, 0.1, 0.1, 0.1, 0.1, 0.1, 0.1, 0.1, 0.1, 0.1, 0.1, 0.1, 0.1, 0.1, 0.1, 0.1, 0.1, 0.1, 0.1, 0.1, 0.1, 0.1, 0.1, 0.1, 0.1, 0.1, 0.1, 0.1, 0.1, 0.1, 0.1, 0.1, 0.1, 0.1, 0.1, 0.1, 0.1, 0.1, 0.1, 0.1, 0.1, 0.1, 0.1, 0.1, 0.1, 0.1, 0.1, 0.1, 0.1, 0.1, 0.1, 0.1, 0.1, 0.1, 0.1, 0.1, 0.1, 0.1, 0.1, 0.1, 0.1, 0.1, 0.1, 0.1, 0.1, 0.1, 0.1, 0.1, 0.1, 0.1, 0.1, 0.1, 0.1, 0.1, 0.1, 0.1, 0.1, 0.1, 0.1, 0.1, 0.1, 0.1, 0.1, 0.1, 0.1, 0.1, 0.1, 0.1, 0.1, 0.1, 0.1, 0.1, 0.1, 0.1, 0.1, 0.1, 0.1, 0.1, 0.1, 0.1, 0.1, 0.1, 0.1, 0.1, 0.1, 0.1, 0.1, 0.1, 0.1, 0.1, 0.1, 0.1, 0.1, 0.1, 0.1, 0.1, 0.1, 0.1, 0.1, 0.1, 0.1, 0.1, 0.1, 0.1, 0.1, 0.1, 0.1, 0.1, 0.1, 0.1, 0.1, 0.1, 0.1, 0.1, 0.1, 0.1, 0.1, 0.1, 0.1, 0.1, 0.1, 0.1, 0.1, 0.1, 0.1, 0.1, 0.1, 0.1, 0.1, 0.1, 0.1, 0.1, 0.1, 0.1, 0.1, 0.1, 0.1, 0.1, 0.1, 0.1, 0.1, 0.1, 0.1, 0.1, 0.1, 0.1, 0.1, 0.1, 0.1, 0.1, 0.1, 0.1, 0.1, 0.1, 0.1, 0.1, 0.1, 0.1, 0.1, 0.1, 0.1, 0.1, 0.1, 0.1, 0.1, 0.1, 0.1, 0.1, 0.1, 0.1, 0.1, 0.1, 0.1, 0.1, 0.1, 0.1, 0.1, 0.1, 0.1, 0.1, 0.1, 0.1, 0.1, 0.1, 0.1, 0.1, 0.1, 0.1, 0.1, 0.1, 0.1, 0.1, 0.1, 0.1, 0.1, 0.1, 0.1, 0.1, 0.1, 0.1, 0.1, 0.1, 0.1, 0.1, 0.1, 0.1, 0.1, 0.1, 0.1, 0.1, 0.1, 0.1, 0.1, 0.1, 0.1, 0.1, 0.1, 0.1, 0.1, 0.1, 0.1, 0.1, 0.1, 0.1, 0.1, 0.1, 0.1, 0.1, 0.1, 0.1, 0.1, 0.1, 0.1, 0.1, 0.1, 0.1, 0.1, 0.1, 0.1, 0.1, 0.1, 0.1, 0.1, 0.1, 0.1, 0.1, 0.1, 0.1, 0.1, 0.1, 0.1, 0.1, 0.1, 0.1, 0.1, 0.1, 0.1, 0.1, 0.1, 0.1, 0.1, 0.1, 0.1, 0.1, 0.1, 0.1, 0.1, 0.1, 0.1, 0.1, 0.1, 0.1, 0.1, 0.1, 0.1, 0.1, 0.1, 0.1, 0.1, 0.1, 0.1, 0.1, 0.1, 0.1, 0.1, 0.1, 0.1, 0.1, 0.1, 0.1, 0.1, 0.1, 0.1, 0.1, 0.1, 0.1, 0.1, 0.1, 0.1, 0.1, 0.1, 0.1, 0.1, 0.1, 0.1, 0.1, 0.1, 0.1, 0.1, 0.1, 0.1, 0.1, 0.1, 0.1, 0.1, 0.1, 0.1, 0.1, 0.1, 0.1, 0.1, 0.1, 0.1, 0.1, 0.1, 0.1, 0.1, 0.1, 0.1, 0.1, 0.1, 0.1, 0.1, 0.1, 0.1, 0.1, 0.1, 0.1, 0.1, 0.1, 0.1, 0.1, 0.1, 0.1, 0.1, 0.1, 0.1, 0.1, 0.1, 0.1, 0.1, 0.1, 0.1, 0.1, 0.1, 0.1, 0.1, 0.1, 0.1, 0.1, 0.1, 0.1, 0.1, 0.1, 0.1, 0.1, 0.1, 0.1, 0.1, 0.1, 0.1, 0.1, 0.1, 0.1, 0.1, 0.1, 0.1, 0.1, 0.1, 0.1, 0.1, 0.1, 0.1, 0.1, 0.1, 0.1, 0.1, 0.1, 0.1, 0.1, 0.1, 0.1, 0.1, 0.1, 0.1, 0.1, 0.1, 0.1, 0.1, 0.1, 0.1, 0.1, 0.1, 0.1, 0.1, 0.1, 0.1, 0.1, 0.1, 0.1, 0.1, 0.1, 0.1, 0.1, 0.1, 0.1, 0.1, 0.1, 0.1, 0.1, 0.1, 0.1, 0.1, 0.1, 0.1, 0.1, 0.1, 0.1, 0.1, 0.1, 0.1, 0.1, 0.1, 0.1, 0.1, 0.1, 0.1, 0.1, 0.1, 0.1, 0.1, 0.1, 0.1, 0.1, 0.1, 0.1, 0.1, 0.1, 0.1, 0.1, 0.1, 0.1, 0.1, 0.1, 0.1, 0.1, 0.1, 0.1, 0.1, 0.1, 0.1, 0.1, 0.1, 0.1, 0.1, 0.1, 0.1, 0.1, 0.1, 0.1, 0.1, 0.1, 0.1, 0.1, 0.1, 0.1, 0.1, 0.1, 0.1, 0.1, 0.1, 0.1, 0.1, 0.1, 0.1, 0.1, 0.1, 0.1, 0.1, 0.1, 0.1, 0.1, 0.1, 0.1, 0.1, 0.1, 0.1, 0.1, 0.1, 0.1, 0.1, 0.1, 0.1, 0.1, 0.1, 0.1, 0.1, 0.1, 0.1, 0.1, 0.1, 0.1, 0.1, 0.1, 0.1, 0.1, 0.1, 0.1, 0.1, 0.1, 0.1, 0.1, 0.1, 0.1, 0.1, 0.1, 0.1, 0.1, 0.1, 0.1, 0.1, 0.1, 0.1, 0.1, 0.1, 0.1, 0.1, 0.1, 0.1, 0.1, 0.1, 0.1, 0.1, 0.1, 0.1, 0.1, 0.1, 0.1, 0.1, 0.1, 0.1, 0.1, 0.1, 0.1, 0.1, 0.1, 0.1, 0.1, 0.1, 0.1, 0.1, 0.1, 0.1, 0.1, 0.1, 0.1, 0.1, 0.1, 0.1, 0.1, 0.1, 0.1, 0.1, 0.1, 0.1, 0.1, 0.1, 0.1, 0.1, 0.1, 0.1, 0.1, 0.1, 0.1, 0.1, 0.1, 0.1, 0.1, 0.1, 0.1, 0.1, 0.1, 0.1, 0.1, 0.1, 0.1, 0.1, 0.1, 0.1, 0.1, 0.1, 0.1, 0.1, 0.1, 0.1, 0.1, 0.1, 0.1, 0.1, 0.1, 0.1, 0.1, 0.1, 0.1, 0.1, 0.1, 0.1, 0.1, 0.1, 0.1, 0.1, 0.1, 0.1, 0.1, 0.1, 0.1, 0.1, 0.1, 0.1, 0.1, 0.1, 0.1, 0.1, 0.1, 0.1, 0.1, 0.1, 0.1, 0.1, 0.1, 0.1, 0.1, 0.1, 0.1, 0.1, 0.1, 0.1, 0.1, 0.1, 0.1, 0.1, 0.1, 0.1, 0.1, 0.1, 0.1, 0.1, 0.1, 0.1, 0.1, 0.1, 0.1, 0.1, 0.1, 0.1, 0.1, 0.1, 0.1, 0.1, 0.1, 0.1, 0.1, 0.1, 0.1, 0.1, 0.1, 0.1, 0.1, 0.1, 0.1, 0.1, 0.1, 0.1, 0.1, 0.1, 0.1, 0.1, 0.1, 0.1, 0.1, 0.1, 0.1, 0.1, 0.1, 0.1, 0.1, 0.1, 0.1, 0.1, 0.1, 0.1, 0.1, 0.1, 0.1, 0.1, 0.1, 0.1, 0.1, 0.1, 0.1, 0.1, 0.1, 0.1, 0.1, 0.1, 0.1, 0.1, 0.1, 0.1, 0.1, 0.1, 0.1, 0.1, 0.1, 0.1, 0.1, 0.1, 0.1, 0.1, 0.1, 0.1, 0.1, 0.1, 0.1, 0.1, 0.1, 0.1, 0.1, 0.1, 0.1, 0.1, 0.1, 0.1, 0.1, 0.1, 0.1, 0.1, 0.1, 0.1, 0.1, 0.1, 0.1, 0.1, 0.1, 0.1, 0.1, 0.1, 0.1, 0.1, 0.1, 0.1, 0.1, 0.1, 0.1, 0.1, 0.1, 0.1, 0.1, 0.1, 0.1, 0.1, 0.1, 0.1, 0.1, 0.1, 0.1, 0.1, 0.1, 0.1, 0.1, 0.1, 0.1, 0.1, 0.1, 0.1, 0.1, 0.1, 0.1, 0.1, 0.1, 0.1, 0.1, 0.1, 0.1, 0.1, 0.1, 0.1, 0.1, 0.1, 0.1, 0.1, 0.1, 0.1, 0.1, 0.1], metadata=None, sparse_values=None), 'b': Vector(id='b', values=[0.2, 0.2, 0.2, 0.2, 0.2, 0.2, 0.2, 0.2, 0.2, 0.2, 0.2, 0.2, 0.2, 0.2, 0.2, 0.2, 0.2, 0.2, 0.2, 0.2, 0.2, 0.2, 0.2, 0.2, 0.2, 0.2, 0.2, 0.2, 0.2, 0.2, 0.2, 0.2, 0.2, 0.2, 0.2, 0.2, 0.2, 0.2, 0.2, 0.2, 0.2, 0.2, 0.2, 0.2, 0.2, 0.2, 0.2, 0.2, 0.2, 0.2, 0.2, 0.2, 0.2, 0.2, 0.2, 0.2, 0.2, 0.2, 0.2, 0.2, 0.2, 0.2, 0.2, 0.2, 0.2, 0.2, 0.2, 0.2, 0.2, 0.2, 0.2, 0.2, 0.2, 0.2, 0.2, 0.2, 0.2, 0.2, 0.2, 0.2, 0.2, 0.2, 0.2, 0.2, 0.2, 0.2, 0.2, 0.2, 0.2, 0.2, 0.2, 0.2, 0.2, 0.2, 0.2, 0.2, 0.2, 0.2, 0.2, 0.2, 0.2, 0.2, 0.2, 0.2, 0.2, 0.2, 0.2, 0.2, 0.2, 0.2, 0.2, 0.2, 0.2, 0.2, 0.2, 0.2, 0.2, 0.2, 0.2, 0.2, 0.2, 0.2, 0.2, 0.2, 0.2, 0.2, 0.2, 0.2, 0.2, 0.2, 0.2, 0.2, 0.2, 0.2, 0.2, 0.2, 0.2, 0.2, 0.2, 0.2, 0.2, 0.2, 0.2, 0.2, 0.2, 0.2, 0.2, 0.2, 0.2, 0.2, 0.2, 0.2, 0.2, 0.2, 0.2, 0.2, 0.2, 0.2, 0.2, 0.2, 0.2, 0.2, 0.2, 0.2, 0.2, 0.2, 0.2, 0.2, 0.2, 0.2, 0.2, 0.2, 0.2, 0.2, 0.2, 0.2, 0.2, 0.2, 0.2, 0.2, 0.2, 0.2, 0.2, 0.2, 0.2, 0.2, 0.2, 0.2, 0.2, 0.2, 0.2, 0.2, 0.2, 0.2, 0.2, 0.2, 0.2, 0.2, 0.2, 0.2, 0.2, 0.2, 0.2, 0.2, 0.2, 0.2, 0.2, 0.2, 0.2, 0.2, 0.2, 0.2, 0.2, 0.2, 0.2, 0.2, 0.2, 0.2, 0.2, 0.2, 0.2, 0.2, 0.2, 0.2, 0.2, 0.2, 0.2, 0.2, 0.2, 0.2, 0.2, 0.2, 0.2, 0.2, 0.2, 0.2, 0.2, 0.2, 0.2, 0.2, 0.2, 0.2, 0.2, 0.2, 0.2, 0.2, 0.2, 0.2, 0.2, 0.2, 0.2, 0.2, 0.2, 0.2, 0.2, 0.2, 0.2, 0.2, 0.2, 0.2, 0.2, 0.2, 0.2, 0.2, 0.2, 0.2, 0.2, 0.2, 0.2, 0.2, 0.2, 0.2, 0.2, 0.2, 0.2, 0.2, 0.2, 0.2, 0.2, 0.2, 0.2, 0.2, 0.2, 0.2, 0.2, 0.2, 0.2, 0.2, 0.2, 0.2, 0.2, 0.2, 0.2, 0.2, 0.2, 0.2, 0.2, 0.2, 0.2, 0.2, 0.2, 0.2, 0.2, 0.2, 0.2, 0.2, 0.2, 0.2, 0.2, 0.2, 0.2, 0.2, 0.2, 0.2, 0.2, 0.2, 0.2, 0.2, 0.2, 0.2, 0.2, 0.2, 0.2, 0.2, 0.2, 0.2, 0.2, 0.2, 0.2, 0.2, 0.2, 0.2, 0.2, 0.2, 0.2, 0.2, 0.2, 0.2, 0.2, 0.2, 0.2, 0.2, 0.2, 0.2, 0.2, 0.2, 0.2, 0.2, 0.2, 0.2, 0.2, 0.2, 0.2, 0.2, 0.2, 0.2, 0.2, 0.2, 0.2, 0.2, 0.2, 0.2, 0.2, 0.2, 0.2, 0.2, 0.2, 0.2, 0.2, 0.2, 0.2, 0.2, 0.2, 0.2, 0.2, 0.2, 0.2, 0.2, 0.2, 0.2, 0.2, 0.2, 0.2, 0.2, 0.2, 0.2, 0.2, 0.2, 0.2, 0.2, 0.2, 0.2, 0.2, 0.2, 0.2, 0.2, 0.2, 0.2, 0.2, 0.2, 0.2, 0.2, 0.2, 0.2, 0.2, 0.2, 0.2, 0.2, 0.2, 0.2, 0.2, 0.2, 0.2, 0.2, 0.2, 0.2, 0.2, 0.2, 0.2, 0.2, 0.2, 0.2, 0.2, 0.2, 0.2, 0.2, 0.2, 0.2, 0.2, 0.2, 0.2, 0.2, 0.2, 0.2, 0.2, 0.2, 0.2, 0.2, 0.2, 0.2, 0.2, 0.2, 0.2, 0.2, 0.2, 0.2, 0.2, 0.2, 0.2, 0.2, 0.2, 0.2, 0.2, 0.2, 0.2, 0.2, 0.2, 0.2, 0.2, 0.2, 0.2, 0.2, 0.2, 0.2, 0.2, 0.2, 0.2, 0.2, 0.2, 0.2, 0.2, 0.2, 0.2, 0.2, 0.2, 0.2, 0.2, 0.2, 0.2, 0.2, 0.2, 0.2, 0.2, 0.2, 0.2, 0.2, 0.2, 0.2, 0.2, 0.2, 0.2, 0.2, 0.2, 0.2, 0.2, 0.2, 0.2, 0.2, 0.2, 0.2, 0.2, 0.2, 0.2, 0.2, 0.2, 0.2, 0.2, 0.2, 0.2, 0.2, 0.2, 0.2, 0.2, 0.2, 0.2, 0.2, 0.2, 0.2, 0.2, 0.2, 0.2, 0.2, 0.2, 0.2, 0.2, 0.2, 0.2, 0.2, 0.2, 0.2, 0.2, 0.2, 0.2, 0.2, 0.2, 0.2, 0.2, 0.2, 0.2, 0.2, 0.2, 0.2, 0.2, 0.2, 0.2, 0.2, 0.2, 0.2, 0.2, 0.2, 0.2, 0.2, 0.2, 0.2, 0.2, 0.2, 0.2, 0.2, 0.2, 0.2, 0.2, 0.2, 0.2, 0.2, 0.2, 0.2, 0.2, 0.2, 0.2, 0.2, 0.2, 0.2, 0.2, 0.2, 0.2, 0.2, 0.2, 0.2, 0.2, 0.2, 0.2, 0.2, 0.2, 0.2, 0.2, 0.2, 0.2, 0.2, 0.2, 0.2, 0.2, 0.2, 0.2, 0.2, 0.2, 0.2, 0.2, 0.2, 0.2, 0.2, 0.2, 0.2, 0.2, 0.2, 0.2, 0.2, 0.2, 0.2, 0.2, 0.2, 0.2, 0.2, 0.2, 0.2, 0.2, 0.2, 0.2, 0.2, 0.2, 0.2, 0.2, 0.2, 0.2, 0.2, 0.2, 0.2, 0.2, 0.2, 0.2, 0.2, 0.2, 0.2, 0.2, 0.2, 0.2, 0.2, 0.2, 0.2, 0.2, 0.2, 0.2, 0.2, 0.2, 0.2, 0.2, 0.2, 0.2, 0.2, 0.2, 0.2, 0.2, 0.2, 0.2, 0.2, 0.2, 0.2, 0.2, 0.2, 0.2, 0.2, 0.2, 0.2, 0.2, 0.2, 0.2, 0.2, 0.2, 0.2, 0.2, 0.2, 0.2, 0.2, 0.2, 0.2, 0.2, 0.2, 0.2, 0.2, 0.2, 0.2, 0.2, 0.2, 0.2, 0.2, 0.2, 0.2, 0.2, 0.2, 0.2, 0.2, 0.2, 0.2, 0.2, 0.2, 0.2, 0.2, 0.2, 0.2, 0.2, 0.2, 0.2, 0.2, 0.2, 0.2, 0.2, 0.2, 0.2, 0.2, 0.2, 0.2, 0.2, 0.2, 0.2, 0.2, 0.2, 0.2, 0.2, 0.2, 0.2, 0.2, 0.2, 0.2, 0.2, 0.2, 0.2, 0.2, 0.2, 0.2, 0.2, 0.2, 0.2, 0.2, 0.2, 0.2, 0.2, 0.2, 0.2, 0.2, 0.2, 0.2, 0.2, 0.2, 0.2, 0.2, 0.2, 0.2, 0.2, 0.2, 0.2, 0.2, 0.2, 0.2, 0.2, 0.2, 0.2, 0.2, 0.2, 0.2, 0.2, 0.2, 0.2, 0.2, 0.2, 0.2, 0.2, 0.2, 0.2, 0.2, 0.2, 0.2, 0.2, 0.2, 0.2, 0.2, 0.2, 0.2, 0.2, 0.2, 0.2, 0.2, 0.2, 0.2, 0.2, 0.2, 0.2, 0.2, 0.2, 0.2, 0.2, 0.2, 0.2, 0.2, 0.2, 0.2, 0.2, 0.2, 0.2, 0.2, 0.2, 0.2, 0.2, 0.2, 0.2, 0.2, 0.2, 0.2, 0.2, 0.2, 0.2, 0.2, 0.2, 0.2, 0.2, 0.2, 0.2, 0.2, 0.2, 0.2, 0.2, 0.2, 0.2, 0.2, 0.2, 0.2, 0.2, 0.2, 0.2, 0.2, 0.2, 0.2, 0.2, 0.2, 0.2, 0.2, 0.2, 0.2, 0.2, 0.2, 0.2, 0.2, 0.2, 0.2, 0.2, 0.2, 0.2, 0.2, 0.2, 0.2, 0.2, 0.2, 0.2, 0.2, 0.2, 0.2, 0.2, 0.2, 0.2, 0.2, 0.2, 0.2, 0.2, 0.2, 0.2, 0.2, 0.2, 0.2, 0.2, 0.2, 0.2, 0.2, 0.2, 0.2, 0.2, 0.2, 0.2, 0.2, 0.2, 0.2, 0.2, 0.2, 0.2, 0.2, 0.2, 0.2, 0.2, 0.2, 0.2, 0.2, 0.2, 0.2, 0.2, 0.2, 0.2, 0.2, 0.2, 0.2, 0.2, 0.2, 0.2, 0.2, 0.2, 0.2, 0.2, 0.2, 0.2, 0.2, 0.2, 0.2, 0.2, 0.2, 0.2, 0.2, 0.2, 0.2, 0.2, 0.2, 0.2, 0.2, 0.2, 0.2, 0.2, 0.2, 0.2, 0.2, 0.2, 0.2, 0.2, 0.2, 0.2, 0.2, 0.2, 0.2, 0.2, 0.2, 0.2, 0.2, 0.2, 0.2, 0.2, 0.2, 0.2, 0.2, 0.2, 0.2, 0.2, 0.2, 0.2, 0.2, 0.2, 0.2, 0.2, 0.2, 0.2, 0.2, 0.2, 0.2, 0.2, 0.2, 0.2, 0.2, 0.2, 0.2, 0.2, 0.2, 0.2, 0.2, 0.2, 0.2, 0.2, 0.2, 0.2, 0.2, 0.2, 0.2, 0.2, 0.2, 0.2, 0.2, 0.2, 0.2, 0.2, 0.2, 0.2, 0.2, 0.2, 0.2, 0.2, 0.2, 0.2, 0.2, 0.2, 0.2, 0.2, 0.2, 0.2, 0.2, 0.2, 0.2, 0.2, 0.2, 0.2, 0.2, 0.2, 0.2, 0.2, 0.2, 0.2, 0.2, 0.2, 0.2, 0.2, 0.2, 0.2, 0.2, 0.2, 0.2, 0.2, 0.2, 0.2, 0.2, 0.2, 0.2, 0.2, 0.2, 0.2, 0.2, 0.2, 0.2, 0.2, 0.2, 0.2, 0.2, 0.2, 0.2, 0.2, 0.2, 0.2, 0.2, 0.2, 0.2, 0.2, 0.2, 0.2, 0.2, 0.2, 0.2, 0.2, 0.2, 0.2, 0.2, 0.2, 0.2, 0.2, 0.2, 0.2, 0.2, 0.2, 0.2, 0.2, 0.2, 0.2, 0.2, 0.2, 0.2, 0.2, 0.2, 0.2, 0.2, 0.2, 0.2, 0.2, 0.2, 0.2, 0.2, 0.2, 0.2, 0.2, 0.2, 0.2, 0.2, 0.2, 0.2, 0.2, 0.2, 0.2, 0.2, 0.2, 0.2, 0.2, 0.2, 0.2, 0.2, 0.2, 0.2, 0.2, 0.2, 0.2, 0.2, 0.2, 0.2, 0.2, 0.2, 0.2, 0.2, 0.2, 0.2, 0.2, 0.2, 0.2, 0.2, 0.2, 0.2, 0.2, 0.2, 0.2, 0.2, 0.2, 0.2, 0.2, 0.2, 0.2, 0.2, 0.2, 0.2, 0.2, 0.2, 0.2, 0.2, 0.2, 0.2, 0.2, 0.2, 0.2, 0.2, 0.2, 0.2, 0.2, 0.2, 0.2, 0.2, 0.2, 0.2, 0.2, 0.2, 0.2, 0.2, 0.2, 0.2, 0.2, 0.2, 0.2, 0.2, 0.2, 0.2, 0.2, 0.2, 0.2, 0.2, 0.2, 0.2, 0.2, 0.2, 0.2, 0.2, 0.2, 0.2, 0.2, 0.2, 0.2, 0.2, 0.2, 0.2, 0.2, 0.2, 0.2, 0.2, 0.2, 0.2, 0.2, 0.2, 0.2, 0.2, 0.2, 0.2, 0.2, 0.2, 0.2, 0.2, 0.2, 0.2, 0.2, 0.2, 0.2, 0.2, 0.2, 0.2, 0.2, 0.2, 0.2, 0.2, 0.2, 0.2, 0.2, 0.2, 0.2, 0.2, 0.2, 0.2, 0.2, 0.2, 0.2, 0.2, 0.2, 0.2, 0.2, 0.2, 0.2, 0.2, 0.2, 0.2, 0.2, 0.2, 0.2, 0.2, 0.2, 0.2, 0.2, 0.2, 0.2, 0.2, 0.2, 0.2, 0.2, 0.2, 0.2, 0.2, 0.2, 0.2, 0.2, 0.2, 0.2, 0.2, 0.2, 0.2, 0.2, 0.2, 0.2, 0.2, 0.2, 0.2, 0.2, 0.2, 0.2, 0.2, 0.2, 0.2, 0.2, 0.2, 0.2, 0.2, 0.2, 0.2, 0.2, 0.2, 0.2, 0.2, 0.2, 0.2, 0.2, 0.2, 0.2, 0.2, 0.2, 0.2, 0.2, 0.2, 0.2, 0.2, 0.2, 0.2, 0.2, 0.2, 0.2, 0.2, 0.2, 0.2, 0.2, 0.2, 0.2, 0.2, 0.2, 0.2, 0.2, 0.2, 0.2, 0.2, 0.2, 0.2, 0.2, 0.2, 0.2, 0.2, 0.2, 0.2, 0.2, 0.2, 0.2, 0.2, 0.2, 0.2, 0.2, 0.2, 0.2, 0.2, 0.2, 0.2, 0.2, 0.2, 0.2, 0.2, 0.2, 0.2, 0.2, 0.2, 0.2, 0.2, 0.2, 0.2, 0.2, 0.2, 0.2, 0.2, 0.2, 0.2, 0.2, 0.2, 0.2, 0.2, 0.2, 0.2, 0.2, 0.2, 0.2, 0.2, 0.2, 0.2, 0.2, 0.2, 0.2, 0.2, 0.2, 0.2, 0.2, 0.2, 0.2, 0.2, 0.2, 0.2, 0.2, 0.2, 0.2, 0.2, 0.2, 0.2, 0.2, 0.2, 0.2, 0.2, 0.2, 0.2, 0.2, 0.2, 0.2, 0.2, 0.2, 0.2, 0.2, 0.2, 0.2, 0.2, 0.2, 0.2, 0.2, 0.2, 0.2, 0.2, 0.2, 0.2, 0.2, 0.2, 0.2, 0.2, 0.2, 0.2, 0.2, 0.2, 0.2, 0.2, 0.2, 0.2, 0.2, 0.2, 0.2, 0.2, 0.2, 0.2, 0.2, 0.2, 0.2, 0.2, 0.2, 0.2, 0.2, 0.2, 0.2, 0.2, 0.2, 0.2, 0.2, 0.2, 0.2, 0.2, 0.2, 0.2, 0.2, 0.2, 0.2, 0.2, 0.2, 0.2, 0.2, 0.2, 0.2, 0.2, 0.2, 0.2, 0.2, 0.2, 0.2, 0.2, 0.2, 0.2, 0.2, 0.2, 0.2, 0.2, 0.2, 0.2, 0.2, 0.2, 0.2, 0.2, 0.2, 0.2, 0.2, 0.2, 0.2, 0.2, 0.2, 0.2, 0.2, 0.2, 0.2, 0.2, 0.2, 0.2, 0.2, 0.2, 0.2, 0.2, 0.2, 0.2, 0.2, 0.2, 0.2, 0.2, 0.2, 0.2, 0.2, 0.2, 0.2, 0.2, 0.2, 0.2, 0.2, 0.2, 0.2, 0.2, 0.2, 0.2, 0.2, 0.2, 0.2, 0.2, 0.2, 0.2, 0.2, 0.2, 0.2, 0.2, 0.2, 0.2, 0.2, 0.2, 0.2, 0.2, 0.2, 0.2, 0.2, 0.2, 0.2, 0.2, 0.2, 0.2, 0.2, 0.2, 0.2, 0.2, 0.2, 0.2, 0.2, 0.2, 0.2, 0.2, 0.2, 0.2, 0.2, 0.2, 0.2, 0.2, 0.2, 0.2, 0.2, 0.2, 0.2, 0.2], metadata=None, sparse_values=None)}, usage={'read_units': 1})"
      ]
     },
     "execution_count": 12,
     "metadata": {},
     "output_type": "execute_result"
    }
   ],
   "source": [
    "index.fetch(ids=[\"a\", \"b\"])"
   ]
  },
  {
   "cell_type": "markdown",
   "id": "7272acf9",
   "metadata": {},
   "source": [
    "### Deleting vectors by ID\n",
    "To delete vectors from a Pinecone index by their IDs, you can use the `delete` method. This method removes the vectors associated with the specified IDs from the index. Below is an example of how to delete vectors by their IDs: "
   ]
  },
  {
   "cell_type": "code",
   "execution_count": 13,
   "id": "77d04f55",
   "metadata": {},
   "outputs": [
    {
     "data": {
      "text/plain": [
       "{}"
      ]
     },
     "execution_count": 13,
     "metadata": {},
     "output_type": "execute_result"
    }
   ],
   "source": [
    "index.delete(ids=[\"a\", \"b\"])"
   ]
  },
  {
   "cell_type": "code",
   "execution_count": 14,
   "id": "54207530",
   "metadata": {},
   "outputs": [
    {
     "data": {
      "text/plain": [
       "{'dimension': 1536,\n",
       " 'index_fullness': 0.0,\n",
       " 'metric': 'cosine',\n",
       " 'namespaces': {'': {'vector_count': 3}},\n",
       " 'total_vector_count': 3,\n",
       " 'vector_type': 'dense'}"
      ]
     },
     "execution_count": 14,
     "metadata": {},
     "output_type": "execute_result"
    }
   ],
   "source": [
    "index.describe_index_stats()"
   ]
  },
  {
   "cell_type": "code",
   "execution_count": 15,
   "id": "b3645f8c",
   "metadata": {},
   "outputs": [
    {
     "data": {
      "text/plain": [
       "FetchResponse(namespace='', vectors={'c': Vector(id='c', values=[0.204195708, 0.933384538, 0.955573142, 0.687194824, 0.480368823, 0.0152939521, 0.88135618, 0.0481844731, 0.534945786, 0.472482055, 0.47474122, 0.273595393, 0.678864, 0.526243627, 0.370931864, 0.245773956, 0.914251685, 0.727751732, 0.114832327, 0.875365, 0.309205383, 0.536275566, 0.959496617, 0.558822036, 0.416250348, 0.620590806, 0.494170338, 0.106574051, 0.85168159, 0.981046915, 0.184834421, 0.179612383, 0.693224669, 0.0970473886, 0.868960679, 0.101248957, 0.779321134, 0.352455765, 0.091754362, 0.595546842, 0.132745624, 0.140526801, 0.755977213, 0.457343072, 0.619590044, 0.630564272, 0.0619884618, 0.895795405, 0.467174858, 0.630901337, 0.608219206, 0.327438682, 0.024047019, 0.133987859, 0.24483113, 0.344723523, 0.731977165, 0.96343106, 0.837494433, 0.721877575, 0.358941615, 0.855726957, 0.80548656, 0.715823233, 0.416341335, 0.835415781, 0.421025783, 0.207307503, 0.848284364, 0.218429953, 0.903052151, 0.909516931, 0.971193, 0.740068078, 0.656855404, 0.106980093, 0.127953246, 0.303174168, 0.682849586, 0.980725944, 0.308174044, 0.700935185, 0.54791522, 0.387678146, 0.815101862, 0.314655483, 0.570284426, 0.320569605, 0.608017266, 0.0855046585, 0.6359303, 0.0224634111, 0.346402019, 0.826619446, 0.243645772, 0.116776973, 0.136692822, 0.85765326, 0.937564313, 0.375861108, 0.96264571, 0.630652487, 0.928730667, 0.870634437, 0.806623399, 0.127303496, 0.497839212, 0.703086197, 0.120159894, 0.681630492, 0.546520531, 0.168047398, 0.010844253, 0.592317224, 0.652912259, 0.69562459, 0.256929517, 0.467121691, 0.783900678, 0.940454, 0.761288643, 0.442521, 0.549830616, 0.563623786, 0.941336572, 0.96121496, 0.834341407, 0.0889482126, 0.280231595, 0.0792071894, 0.816468537, 0.816268265, 0.454741985, 0.389707357, 0.780882657, 0.702731252, 0.0810317621, 0.765400052, 0.3908315, 0.122414716, 0.64321357, 0.457379282, 0.645753801, 0.950701773, 0.484541088, 0.794689178, 0.146834448, 0.154364616, 0.516796827, 0.652729571, 0.738478899, 0.726192176, 0.212318406, 0.0129125929, 0.85774523, 0.267123908, 0.218395516, 0.448755562, 0.122697607, 0.510452569, 0.687754273, 0.920269907, 0.358292192, 0.873267889, 0.515230596, 0.450285494, 0.183582008, 0.527286649, 0.486118019, 0.799828351, 0.0318462923, 0.641339064, 0.679371834, 0.190051734, 0.365611374, 0.792117417, 0.810454428, 0.606042683, 0.236776695, 0.877442718, 0.223028436, 0.94019258, 0.0888870358, 0.87403357, 0.00862763, 0.383732289, 0.67012012, 0.230960593, 0.814219117, 0.565747142, 0.317072898, 0.191840753, 0.879160583, 0.946824074, 0.117876597, 0.921852648, 0.0787813291, 0.54175365, 0.750796556, 0.0414723717, 0.500972033, 0.340691566, 0.307820469, 0.920499742, 0.797660172, 0.690683663, 0.946311951, 0.354327798, 0.521379232, 0.741051555, 0.693450332, 0.475142241, 0.306658387, 0.847286105, 0.974206746, 0.514839113, 0.40034619, 0.57922107, 0.0694088191, 0.756290376, 0.446240723, 0.911471, 0.00993115362, 0.927767217, 0.367287427, 0.00359017495, 0.588611364, 0.499563813, 0.317710221, 0.923776805, 0.978120327, 0.663005948, 0.130409047, 0.0415433794, 0.949863791, 0.90464896, 0.127808794, 0.18881315, 0.0532189459, 0.304849148, 0.571874738, 0.988791764, 0.131306902, 0.620025218, 0.0813150555, 0.349238813, 0.0675109, 0.269876897, 0.998515427, 0.200619146, 0.521052599, 0.304847866, 0.817777812, 0.745161116, 0.67615819, 0.112636089, 0.193981737, 0.0606414378, 0.578696132, 0.996392131, 0.645633817, 0.512996197, 0.969804168, 0.121446714, 0.0262627564, 0.15422903, 0.902016461, 0.0348696, 0.556352794, 0.827534556, 0.413757086, 0.0777542, 0.329021096, 0.714125931, 0.263581395, 0.43275407, 0.979851961, 0.433577091, 0.986436903, 0.495423794, 0.131286159, 0.798322797, 0.867220342, 0.804737329, 0.828756571, 0.438427895, 0.00155105244, 0.111344807, 0.893109262, 0.565301299, 0.781916559, 0.305895865, 0.173155025, 0.438071728, 0.313583344, 0.369180202, 0.677263737, 0.515905142, 0.205862269, 0.0538853295, 0.0194191281, 0.96317333, 0.221176, 0.904450893, 0.475606203, 0.524235129, 0.891342044, 0.568010449, 0.851782858, 0.766747057, 0.954688132, 0.3649064, 0.442142367, 0.651609302, 0.378330916, 0.488164634, 0.0303906035, 0.510335565, 0.620032907, 0.458618551, 0.00319119194, 0.431874156, 0.842190385, 0.159461662, 0.303378195, 0.602951109, 0.216395289, 0.441717416, 0.910955369, 0.057796713, 0.141994685, 0.832142472, 0.807814, 0.301361024, 0.0640777573, 0.153799847, 0.726693273, 0.298894167, 0.993362904, 0.460461974, 0.782979906, 0.196129844, 0.419680238, 0.309258878, 0.683285117, 0.24783434, 0.488600165, 0.667243421, 0.992846668, 0.0959394649, 0.71586144, 0.383790076, 0.412301451, 0.866179585, 0.350211471, 0.440428972, 0.455545664, 0.426286697, 0.690277278, 0.872876048, 0.928316712, 0.765364826, 0.000131354682, 0.580429077, 0.709339499, 0.44856292, 0.186582208, 0.0304747317, 0.816886246, 0.818517625, 0.103852153, 0.342274606, 0.124244809, 0.310153604, 0.694801271, 0.564756811, 0.110562921, 0.584116757, 0.158495, 0.310090065, 0.868577302, 0.146881208, 0.0332037099, 0.296628416, 0.175698146, 0.548023939, 0.897254229, 0.158001214, 0.636830151, 0.259323716, 0.114537224, 0.655943632, 0.019055089, 0.825531423, 0.466617346, 0.426555455, 0.94751215, 0.852229178, 0.65790993, 0.0282364115, 0.897423804, 0.783860087, 0.0905027539, 0.589451432, 0.3758744, 0.878836, 0.55057, 0.754159749, 0.961033702, 0.172457397, 0.635545552, 0.970453203, 0.18088752, 0.412524313, 0.0752161667, 0.330334157, 0.908384144, 0.200074822, 0.816145718, 0.567406416, 0.949814558, 0.75305742, 0.431859821, 0.212575018, 0.0886446834, 0.169399306, 0.0341657549, 0.221834823, 0.333896846, 0.222972229, 0.632792592, 0.053905, 0.814642489, 0.841907263, 0.611792624, 0.545966148, 0.712509453, 0.504739106, 0.194182694, 0.076033771, 0.264809757, 0.854335725, 0.113899775, 0.925009549, 0.561275542, 0.798151731, 0.140097916, 0.256635964, 0.0770124719, 0.433152974, 0.75619036, 0.466412157, 0.19355385, 0.497792482, 0.234664187, 0.264341056, 0.43350628, 0.00429963041, 0.359501034, 0.85217, 0.529989719, 0.230287299, 0.87465167, 0.0215564035, 0.434401453, 0.25637576, 0.164517671, 0.69830811, 0.781138182, 0.467560053, 0.0367434397, 0.165271834, 0.257490367, 0.632977247, 0.777505219, 0.627036154, 0.439630777, 0.00877381209, 0.717534304, 0.877885938, 0.909236, 0.39118439, 0.82162118, 0.669744253, 0.836778164, 0.333751202, 0.105153069, 0.0142571405, 0.224508792, 0.963519275, 0.684605777, 0.655252278, 0.948331475, 0.596977234, 0.320641637, 0.449985236, 0.736705899, 0.786688685, 0.975193918, 0.938851, 0.401234508, 0.194205403, 0.698475182, 0.503872037, 0.0732710138, 0.823452055, 0.19169642, 0.307381928, 0.134316817, 0.475975722, 0.102208011, 0.622585475, 0.793908358, 0.721711934, 0.807836294, 0.693326175, 0.881213903, 0.984649, 0.977767885, 0.971462965, 0.134050488, 0.416440308, 0.648897409, 0.428002864, 0.91864109, 0.0835398957, 0.781971395, 0.795877, 0.958906353, 0.830313087, 0.699086726, 0.791315615, 0.900286138, 0.476845622, 0.0337982513, 0.646980405, 0.0187148564, 0.91292572, 0.191020519, 0.777211189, 0.806554914, 0.505039871, 0.428866357, 0.697760642, 0.0307631, 0.560083508, 0.929370046, 0.972660184, 0.100033507, 0.676902473, 0.443605542, 0.489422321, 0.352669895, 0.551978528, 0.921802282, 0.777683854, 0.546118, 0.102613777, 0.774876773, 0.543436229, 0.722791851, 0.555315197, 0.697445333, 0.965770483, 0.371090204, 0.745770037, 0.865116417, 0.17751728, 0.810819, 0.153150365, 0.0148940831, 0.924851358, 0.437869936, 0.24805671, 0.286269695, 0.437207431, 0.765766799, 0.184034273, 0.430945963, 0.479244947, 0.118557446, 0.842609942, 0.474941254, 0.0743390545, 0.283576876, 0.989145398, 0.891164482, 0.678793967, 0.876152, 0.237203181, 0.683671951, 0.591261804, 0.215205938, 0.95488584, 0.512728, 0.177206323, 0.870205581, 0.322077543, 0.572507203, 0.208733156, 0.462941557, 0.66492939, 0.262416571, 0.65554, 0.160621569, 0.537057102, 0.912268519, 0.787836373, 0.409810185, 0.204455093, 0.244464025, 0.673789322, 0.522866189, 0.024335295, 0.701559901, 0.149577513, 0.382668525, 0.00333831692, 0.907367647, 0.474775553, 0.592360675, 0.529179275, 0.403462023, 0.118137389, 0.975946903, 0.625690579, 0.874001801, 0.986660898, 0.477767915, 0.355527341, 0.0684096292, 0.447704554, 0.5535869, 0.327135384, 0.38367334, 0.0397676416, 0.973277748, 0.413658053, 0.357840955, 0.655308127, 0.714766622, 0.330187172, 0.98916769, 0.106067285, 0.216668218, 0.00180729979, 0.147561789, 0.799423635, 0.279527783, 0.492518276, 0.0860532522, 0.993884802, 0.90838033, 0.132237211, 0.624775469, 0.781672657, 0.315074086, 0.930388868, 0.814789891, 0.203352213, 0.504949272, 0.864153, 0.553422749, 0.193229824, 0.527835131, 0.912131846, 0.378485888, 0.163452774, 0.393045723, 0.102619357, 0.680456102, 0.514757335, 0.849259794, 0.811268747, 0.621156156, 0.495753318, 0.55168438, 0.305656463, 0.378043026, 0.521845, 0.747534573, 0.692429, 0.766045332, 0.21490331, 0.535660505, 0.703540444, 0.171855152, 0.0788656548, 0.610775948, 0.807479262, 0.785335541, 0.34564209, 0.875251591, 0.392442495, 0.710874, 0.11212644, 0.774570346, 0.0294340868, 0.0329252668, 0.579859495, 0.387349248, 0.239932343, 0.659699619, 0.710643947, 0.876620173, 0.707784057, 0.771500468, 0.494318753, 0.947388887, 0.251239419, 0.319993019, 0.489493936, 0.57707876, 0.510329127, 0.908064306, 0.803107679, 0.0694127232, 0.145065352, 0.29999733, 0.780239761, 0.0463024303, 0.153336287, 0.0249970127, 0.913137794, 0.770678461, 0.357797742, 0.669092715, 0.123049371, 0.734374344, 0.0139345275, 0.54100126, 0.981723726, 0.577558041, 0.349287689, 0.566687703, 0.13884306, 0.449860603, 0.5604164, 0.505444169, 0.130526945, 0.925175309, 0.292969435, 0.895598829, 0.407755136, 0.1458987, 0.660279632, 0.727362692, 0.670350671, 0.0976837, 0.186161518, 0.778377, 0.320151448, 0.613096118, 0.172950253, 0.98663187, 0.981270671, 0.677956223, 0.530593514, 0.79796046, 0.709273219, 0.623362, 0.805051565, 0.370453805, 0.0878080204, 0.242275223, 0.678345144, 0.0787804052, 0.540733337, 0.248516902, 0.758476, 0.880717278, 0.445918202, 0.828318834, 0.636410534, 0.200699791, 0.484013885, 0.27627331, 0.306391, 0.601774275, 0.309341252, 0.88828373, 0.888186038, 0.0514945127, 0.944368064, 0.222013339, 0.621247888, 0.809355617, 0.48803, 0.0316345282, 0.0925886, 0.0921522528, 0.92064476, 0.779181719, 0.252047598, 0.968968511, 0.166074812, 0.182045966, 0.834728956, 0.0991462171, 0.965167642, 0.439281702, 0.0102803903, 0.399047881, 0.592640519, 0.846713185, 0.76524353, 0.644933462, 0.0753179267, 0.225379795, 0.77433, 0.175788417, 0.12045034, 0.687652886, 0.228020757, 0.507331073, 0.475138843, 0.98051, 0.74662739, 0.899152577, 0.426410556, 0.332852423, 0.0442173108, 0.586586, 0.40630123, 0.0667244941, 0.125167102, 0.579369962, 0.60377872, 0.638088226, 0.00813114, 0.0430579074, 0.189517662, 0.911672711, 0.27310428, 0.181532115, 0.914106607, 0.203068435, 0.560117841, 0.925226867, 0.0439179502, 0.38363564, 0.160784572, 0.281996608, 0.329658121, 0.539344072, 0.680809855, 0.0724048689, 0.701401472, 0.191671446, 0.591036856, 0.0306791179, 0.914824963, 0.510725141, 0.353083342, 0.965269208, 0.422793061, 0.814938247, 0.778788388, 0.812991738, 0.437139571, 0.511895955, 0.208427563, 0.0396515206, 0.732501, 0.943044543, 0.64387691, 0.93677336, 0.469468951, 0.176620752, 0.85789603, 0.87370944, 0.0166466106, 0.785505712, 0.032523334, 0.103734285, 0.396599114, 0.176480442, 0.129683048, 0.632321179, 0.905448556, 0.578429759, 0.93756181, 0.650360823, 0.381151468, 0.501747727, 0.905499339, 0.0458022244, 0.032184463, 0.191279784, 0.0603198186, 0.595850646, 0.121345691, 0.541042209, 0.955333412, 0.633446872, 0.953985512, 0.334574163, 0.513887107, 0.212798759, 0.633368254, 0.939635336, 0.0812027, 0.237723321, 0.845769405, 0.670285583, 0.477534592, 0.45387736, 0.975023627, 0.664107263, 0.387115687, 0.531548321, 0.540483654, 0.672035635, 0.627986252, 0.743323505, 0.532389343, 0.0353437439, 0.18176733, 0.433590502, 0.336037785, 0.575056553, 0.614670277, 0.169678152, 0.435904205, 0.954490066, 0.490004182, 0.243507415, 0.270875037, 0.106452882, 0.793307245, 0.528831661, 0.568034112, 0.276146621, 0.432760477, 0.421132565, 0.842045069, 0.635848105, 0.809127688, 0.260878265, 0.642358541, 0.350087285, 0.884977579, 0.0372254215, 0.125581503, 0.44419229, 0.241738722, 0.621869683, 0.233645618, 0.830310285, 0.556814492, 0.14463219, 0.293588161, 0.0447813533, 0.23462151, 0.386599153, 0.121471398, 0.243661374, 0.637792587, 0.0633867681, 0.507517159, 0.798962295, 0.995105624, 0.728740096, 0.115129322, 0.914585352, 0.387621611, 0.446895748, 0.714267552, 0.71358794, 0.112796284, 0.128940359, 0.590537131, 0.792233169, 0.695779204, 0.228733018, 0.777051628, 0.783340573, 0.888411701, 0.796344101, 0.201614529, 0.266607463, 0.809279203, 0.17083928, 0.922768772, 0.520280719, 0.505310833, 0.343067646, 0.175335437, 0.824681163, 0.149787158, 0.759162307, 0.141577318, 0.62919414, 0.0631705, 0.896393538, 0.935501933, 0.280937433, 0.225377575, 0.258873045, 0.888913572, 0.095665887, 0.597719312, 0.281083345, 0.0750101134, 0.777897716, 0.585712135, 0.0879486501, 0.0411580503, 0.0107539939, 0.797326088, 0.369770795, 0.908869267, 0.795582414, 0.439121693, 0.351473838, 0.105907947, 0.434245914, 0.367925435, 0.246379852, 0.120522566, 0.996980965, 0.765331089, 0.480588466, 0.797997952, 0.31862554, 0.0067394306, 0.323544055, 0.689513385, 0.554203689, 0.839850247, 0.899749041, 0.275425434, 0.444198579, 0.0186223593, 0.60116595, 0.864936411, 0.120453104, 0.307706863, 0.981392741, 0.870752811, 0.224278331, 0.660485744, 0.485021263, 0.19344756, 0.873731852, 0.268550843, 0.351988941, 0.0616498, 0.00624745339, 0.529299, 0.41063866, 0.988841653, 0.410371125, 0.207601041, 0.988579869, 0.432256252, 0.769952714, 0.970812559, 0.844224572, 0.860178471, 0.278974324, 0.703870893, 0.0582493097, 0.684670269, 0.604734361, 0.622063458, 0.800892532, 0.291207641, 0.692297876, 0.151217654, 0.814997256, 0.613242, 0.494597316, 0.591987073, 0.301392466, 0.810408, 0.60414058, 0.8380602, 0.0138624357, 0.537544, 0.45648247, 0.291051328, 0.635394633, 0.720735192, 0.280015111, 0.652540207, 0.632113636, 0.871695757, 0.524372637, 0.282618076, 0.354748428, 0.951204419, 0.673253059, 0.321488917, 0.116173029, 0.877083838, 0.411851108, 0.809137166, 0.929878891, 0.460853517, 0.485746533, 0.889316142, 0.173443213, 0.592431962, 0.203790233, 0.401670218, 0.20290482, 0.147267565, 0.581739902, 0.948200285, 0.54836005, 0.479823828, 0.844956756, 0.133254156, 0.455993652, 0.555430233, 0.241591886, 0.331813186, 0.593798637, 0.801075101, 0.0549212731, 0.744260609, 0.948296547, 0.855015814, 0.375793427, 0.470130891, 0.964452088, 0.298662573, 0.28257522, 0.570726335, 0.853541851, 0.0751422495, 0.252907962, 0.474617571, 0.697858155, 0.637512565, 0.106750794, 0.980843246, 0.173003495, 0.970689714, 0.307357073, 0.6180439, 0.437364608, 0.61363095, 0.92704922, 0.0301339757, 0.301913857, 0.731349111, 0.34894681, 0.433854967, 0.704328716, 0.458041161, 0.961514592, 0.90729773, 0.16365701, 0.848091781, 0.548055, 0.762823045, 0.690831065, 0.481044978, 0.266295284, 0.0690040514, 0.995731652, 0.499356389, 0.328885525, 0.142015785, 0.877075434, 0.215904266, 0.522592366, 0.725862622, 0.652765751, 0.44556731, 0.50103718, 0.940834939, 0.0847332925, 0.511425197, 0.884734869, 0.915702403, 0.9751001, 0.487298846, 0.538839579, 0.966091156, 0.803095281, 0.805497468, 0.840996504, 0.632885396, 0.532833755, 0.715689957, 0.186678231, 0.774810135, 0.881241918, 0.0780985504, 0.422752738, 0.184402704, 0.19055295, 0.590608895, 0.897590041, 0.762901187, 0.0725320801, 0.0129684815, 0.273182571, 0.633800745, 0.915178835, 0.556266189, 0.412457764, 0.206004471, 0.0606372505, 0.141742334, 0.426600248, 0.843120217, 0.7280972, 0.481287271, 0.994618058, 0.253120542, 0.88649106, 0.279984176, 0.348445565, 0.735071659, 0.226462662, 0.572550654, 0.052090589, 0.351750433, 0.479024082, 0.730593443, 0.798581719, 0.656620383, 0.561692059, 0.264603823, 0.459945, 0.417802632, 0.176337644, 0.72070694, 0.574858308, 0.209444031, 0.583040833, 0.663534105, 0.957186162, 0.214486331, 0.25298208, 0.919810116, 0.736245215, 0.253219128, 0.355524749, 0.741228759, 0.37862128, 0.0581803173, 0.48613441, 0.561554193, 0.818675458, 0.633774221, 0.339372039, 0.350583941, 0.479988188, 0.591574252, 0.767083049, 0.446640432, 0.17273882, 0.398660332, 0.213571221, 0.941557586, 0.512086213, 0.382686377, 0.0636411458, 0.103114769, 0.207426488, 0.436159253, 0.158364117, 0.509026, 0.678089499, 0.67869252, 0.0821426809, 0.625362277, 0.78838259, 0.173611015, 0.280316979, 0.544691384, 0.565348804, 0.392701924, 0.915108323, 0.758252621, 0.8332569, 0.897114336, 0.382544786, 0.753793478, 0.1026702, 0.216899246, 0.360025972, 0.972421885, 0.532087922, 0.339525342, 0.250003397, 0.105848163, 0.550569236, 0.553579211, 0.178895682, 0.495744109, 0.962289333, 0.627105236, 0.32363081, 0.831197143, 0.400020033, 0.540362597, 0.360137701, 0.444981784, 0.595455706, 0.665957749, 0.387046099, 0.183782026, 0.336179465, 0.236022785, 0.478592932, 0.533581495, 0.954293311, 0.740854084, 0.583805621, 0.0758544505, 0.133154973, 0.524323344, 0.80760926, 0.708714604, 0.19404529, 0.52399528, 0.815974295, 0.654341102, 0.203757569, 0.57195425, 0.41210562, 0.442312628, 0.380647451, 0.900637388, 0.383287102, 0.042122446, 0.401134789, 0.40428704, 0.801750124, 0.221653268, 0.852102339, 0.236287147, 0.13970165, 0.129717886, 0.551568389, 0.851777911, 0.205574, 0.585515678, 0.452681094, 0.711272717, 0.174548775, 0.695627272, 0.148347422, 0.152608141, 0.412112683, 0.236776263, 0.809041798, 0.526966274, 0.493715644, 0.80402869, 0.325077504, 0.238316968, 0.775576055, 0.111638986, 0.988298833, 0.5452, 0.704618096, 0.959399581, 0.432127357, 0.311779648, 0.0967653841, 0.578298748, 0.2092686, 0.990940511, 0.947718799, 0.447831094, 0.526891947, 0.17060554, 0.326867938, 0.0190541875, 0.102711245, 0.487365723, 0.581934, 0.0519235767, 0.244761556, 0.416029, 0.748222, 0.12033271, 0.848131955, 0.170126051, 0.974126637, 0.745760202, 0.784696043, 0.473225445, 0.910123587, 0.0998566374, 0.516897142, 0.227093801, 0.959836364, 0.0610324033, 0.732655942, 0.343471706, 0.174212903, 0.101325549, 0.626760542, 0.0311542396, 0.465900749, 0.786950469, 0.866992891, 0.0367730483, 0.785651803, 0.314410955, 0.936252952, 0.544312835, 0.21570988, 0.849385142, 0.331098109, 0.515548944, 0.921873152, 0.176364347, 0.0627864078, 0.899944961, 0.369388252, 0.635624349, 0.415968388, 0.0336743146, 0.0802247599, 0.854981184, 0.434833229, 0.588955641, 0.452422112, 0.555972695, 0.635788918, 0.0453606136, 0.478085726, 0.531943, 0.368731022, 0.684365273, 0.980761528, 0.535871446, 0.156661302, 0.911142111, 0.309308439, 0.112416349, 0.0627775043, 0.348023027, 0.0616420954, 0.750228465, 0.0252404418, 0.273562431, 0.0264060888, 0.942623734, 0.6249789, 0.654598534, 0.0110703446, 0.0651721433, 0.0408108346, 0.701083839, 0.447937578, 0.629945457, 0.459546596, 0.693530083, 0.249981686, 0.138959512, 0.784237266, 0.390914083, 0.322874278, 0.940381289, 0.452587396, 0.391805291, 0.768152773, 0.457171202, 0.157535791, 0.594890893, 0.165344805, 0.146859616, 0.164667711, 0.807392418, 0.787016571, 0.630700111, 0.512603223, 0.281057954, 0.719416797, 0.0140833, 0.918008804, 0.668679833, 0.0288286433, 0.354365945, 0.502904594, 0.0732990354, 0.703394711, 0.184551135, 0.870923936, 0.392875731, 0.141825989, 0.587117672, 0.339820623, 0.69222939, 0.908099115, 0.393075615, 0.560543716, 0.670752943, 0.598992646, 0.260642767, 0.198222831, 0.196760729, 0.54351759, 0.096858114, 0.0771462396, 0.21537751, 0.604920626, 0.342542261, 0.158836797, 0.316098154, 0.987346828, 0.760460615, 0.794763, 0.289242715, 0.531003118, 0.0229741652, 0.443333209, 0.105695218, 0.278802127, 0.88145715, 0.39426294, 0.830277324, 0.356396466, 0.596018434, 0.408087909, 0.811307, 0.57866019, 0.146744683, 0.366908878, 0.785692096, 0.725180149, 0.240690187, 0.395299643, 0.647939861, 0.885546207, 0.0867948], metadata=None, sparse_values=None)}, usage={'read_units': 1})"
      ]
     },
     "execution_count": 15,
     "metadata": {},
     "output_type": "execute_result"
    }
   ],
   "source": [
    "index.fetch(ids=['c'])"
   ]
  },
  {
   "cell_type": "markdown",
   "id": "b0954361",
   "metadata": {},
   "source": [
    "### Querying Pinecone Index\n",
    "To query a Pinecone index, you can use the `query` method. This method allows you to search for vectors similar to a given query vector. Below is an example of how to query a Pinecone index:"
   ]
  },
  {
   "cell_type": "code",
   "execution_count": 16,
   "id": "d4e1acfe",
   "metadata": {},
   "outputs": [
    {
     "data": {
      "text/plain": [
       "{}"
      ]
     },
     "execution_count": 16,
     "metadata": {},
     "output_type": "execute_result"
    }
   ],
   "source": [
    "index.delete(ids=[\"b\", \"c\", \"d\", \"e\"])"
   ]
  },
  {
   "cell_type": "code",
   "execution_count": 17,
   "id": "f5192184",
   "metadata": {},
   "outputs": [
    {
     "data": {
      "text/plain": [
       "{'dimension': 1536,\n",
       " 'index_fullness': 0.0,\n",
       " 'metric': 'cosine',\n",
       " 'namespaces': {},\n",
       " 'total_vector_count': 0,\n",
       " 'vector_type': 'dense'}"
      ]
     },
     "execution_count": 17,
     "metadata": {},
     "output_type": "execute_result"
    }
   ],
   "source": [
    "index.describe_index_stats()"
   ]
  },
  {
   "cell_type": "code",
   "execution_count": 18,
   "id": "fdc0c428",
   "metadata": {},
   "outputs": [
    {
     "data": {
      "text/plain": [
       "{'upserted_count': 5}"
      ]
     },
     "execution_count": 18,
     "metadata": {},
     "output_type": "execute_result"
    }
   ],
   "source": [
    "# Create 5 vectors, each of dimension 1536\n",
    "vectors = [[random.random() for _ in range(1536)] for _ in range(5)]  # 5 vectors of dimension 1536\n",
    "ids = list('abcde')  # 5 unique IDs\n",
    "index_name = \"qa-docs\"\n",
    "# Pinecone expects a list of (id, vector) tuples\n",
    "index.upsert(vectors=list(zip(ids, vectors)))"
   ]
  },
  {
   "cell_type": "code",
   "execution_count": 20,
   "id": "055e5a56",
   "metadata": {},
   "outputs": [
    {
     "data": {
      "text/plain": [
       "{'matches': [{'id': 'c', 'score': 0.766354382, 'values': []},\n",
       "             {'id': 'a', 'score': 0.756619394, 'values': []},\n",
       "             {'id': 'e', 'score': 0.756510854, 'values': []}],\n",
       " 'namespace': '',\n",
       " 'usage': {'read_units': 1}}"
      ]
     },
     "execution_count": 20,
     "metadata": {},
     "output_type": "execute_result"
    }
   ],
   "source": [
    "query_vector = [random.random() for _ in range(1536)]  # A random query vector of dimension 1536\n",
    "# Query the index for the top 3 most similar vectors\n",
    "index.query(vector=query_vector, top_k=3)"
   ]
  },
  {
   "cell_type": "markdown",
   "id": "2e1b1e39",
   "metadata": {},
   "source": [
    "## Namespaces\n",
    "Namespaces in Pinecone allow you to organize your vectors into separate groups. This can be useful for managing different datasets or applications within the same Pinecone index. When upserting, querying, or deleting vectors, you can specify a namespace to operate within that specific group."
   ]
  },
  {
   "cell_type": "code",
   "execution_count": 21,
   "id": "bb7fc86d",
   "metadata": {},
   "outputs": [
    {
     "data": {
      "text/plain": [
       "{'upserted_count': 3}"
      ]
     },
     "execution_count": 21,
     "metadata": {},
     "output_type": "execute_result"
    }
   ],
   "source": [
    "vectors = [[random.random() for _ in range(1536)] for _ in range(3)]  # 3 vectors of dimension 1536\n",
    "ids = list('xyz')  # 3 unique IDs\n",
    "index.upsert(vectors=list(zip(ids, vectors)), namespace=\"test-namespace\")"
   ]
  },
  {
   "cell_type": "code",
   "execution_count": 32,
   "id": "eedb69b4",
   "metadata": {},
   "outputs": [
    {
     "data": {
      "text/plain": [
       "{'upserted_count': 2}"
      ]
     },
     "execution_count": 32,
     "metadata": {},
     "output_type": "execute_result"
    }
   ],
   "source": [
    "vectors = [[random.random() for _ in range(1536)] for _ in range(2)]  # 2 vectors of dimension 1536\n",
    "ids = list('wv')  # 2 unique IDs\n",
    "index.upsert(vectors=list(zip(ids, vectors)), namespace=\"test-namespace-2\")"
   ]
  },
  {
   "cell_type": "code",
   "execution_count": 24,
   "id": "716cf0de",
   "metadata": {},
   "outputs": [
    {
     "data": {
      "text/plain": [
       "{'dimension': 1536,\n",
       " 'index_fullness': 0.0,\n",
       " 'metric': 'cosine',\n",
       " 'namespaces': {'': {'vector_count': 5},\n",
       "                'test-namespace': {'vector_count': 3},\n",
       "                'test-namespace-2': {'vector_count': 2}},\n",
       " 'total_vector_count': 10,\n",
       " 'vector_type': 'dense'}"
      ]
     },
     "execution_count": 24,
     "metadata": {},
     "output_type": "execute_result"
    }
   ],
   "source": [
    "index.describe_index_stats()"
   ]
  },
  {
   "cell_type": "code",
   "execution_count": 25,
   "id": "c6a2efc3",
   "metadata": {},
   "outputs": [
    {
     "data": {
      "text/plain": [
       "FetchResponse(namespace='', vectors={}, usage={'read_units': 1})"
      ]
     },
     "execution_count": 25,
     "metadata": {},
     "output_type": "execute_result"
    }
   ],
   "source": [
    "# This won't work because the vectors are in different namespaces\n",
    "index.fetch(ids=['x', 'w'])"
   ]
  },
  {
   "cell_type": "code",
   "execution_count": 26,
   "id": "cb79bd08",
   "metadata": {},
   "outputs": [
    {
     "data": {
      "text/plain": [
       "FetchResponse(namespace='test-namespace', vectors={'x': Vector(id='x', values=[0.302782059, 0.0229782499, 0.0920657888, 0.164872706, 0.969619751, 0.192568123, 0.18780975, 0.872923613, 0.31419012, 0.971828222, 0.127541482, 0.282759309, 0.884009421, 0.734989941, 0.0820429549, 0.855031252, 0.943318069, 0.518241346, 0.12030521, 0.722625315, 0.736760378, 0.151344463, 0.159780368, 0.046338845, 0.577729344, 0.286768913, 0.0496764518, 0.873149931, 0.00705067255, 0.325902015, 0.995396435, 0.0904139504, 0.0126104169, 0.980078459, 0.381761074, 0.280359834, 0.538507, 0.813257337, 0.481419712, 0.359915912, 0.438147098, 0.731691658, 0.5145244, 0.629424214, 0.341347158, 0.429759383, 0.428638428, 0.919464, 0.16889967, 0.34036231, 0.783960342, 0.61053884, 0.167912588, 0.165352046, 0.0050615971, 0.853727698, 0.956301689, 0.45242852, 0.721725941, 0.818641365, 0.987665594, 0.044940453, 0.609688342, 0.299595237, 0.25013116, 0.432191521, 0.955679595, 0.0513980351, 0.662623644, 0.081861, 0.793734, 0.908547878, 0.419338524, 0.849046409, 0.444889247, 0.654919922, 0.83648181, 0.739038885, 0.385593325, 0.0979752466, 0.213530555, 0.952293336, 0.685155153, 0.998631775, 0.394991517, 0.418995708, 0.225092813, 0.300938934, 0.0360699669, 0.566658854, 0.69768846, 0.182329729, 0.648670137, 0.905150831, 0.631651402, 0.524262249, 0.0919463262, 0.322593659, 0.809727192, 0.669955134, 0.368007451, 0.53180933, 0.549279451, 0.25466302, 0.393950015, 0.294652909, 0.414997697, 0.6482113, 0.28010121, 0.818656743, 0.690866709, 0.139279842, 0.23917453, 0.79139173, 0.278115, 0.104195952, 0.572997689, 0.39047271, 0.85218972, 0.139062688, 0.138212502, 0.0402633026, 0.286903411, 0.812031806, 0.207293168, 0.692765, 0.468255728, 0.294091791, 0.733095527, 0.542355478, 0.0122007206, 0.379171044, 0.443278909, 0.0671395138, 0.0968458131, 0.913323224, 0.422548622, 0.102797471, 0.25163573, 0.644098818, 0.869973361, 0.562978685, 0.18041563, 0.661312401, 0.831101, 0.713190556, 0.399420351, 0.293877929, 0.283374846, 0.748370171, 0.435640216, 0.274252981, 0.775275528, 0.535154104, 0.163758129, 0.903632224, 0.982246757, 0.480205983, 0.0818805248, 0.325819641, 0.688408732, 0.206449583, 0.83727622, 0.365811795, 0.270918518, 0.869523525, 0.406104177, 0.0789943486, 0.00714413, 0.506446898, 0.791057646, 0.340504527, 0.143647641, 0.83386606, 0.0763864517, 0.910055339, 0.664724112, 0.881609559, 0.903097868, 0.0412810072, 0.982034862, 0.399010181, 0.892912567, 0.0828585848, 0.942683816, 0.121802539, 0.197182685, 0.138134375, 0.698533297, 0.320275694, 0.823852062, 0.62687546, 0.691008329, 0.847677171, 0.304156303, 0.163215369, 0.00494482787, 0.808001757, 0.744730294, 0.237507507, 0.809440196, 0.258713901, 0.610602558, 0.0257608574, 0.38986063, 0.964139163, 0.684388101, 0.64788121, 0.675447524, 0.983685911, 0.505413711, 0.240593821, 0.624093056, 0.897915184, 0.453503281, 0.886547565, 0.673435569, 0.479448467, 0.717039764, 0.510178387, 0.882285237, 0.158298314, 0.421834141, 0.932784677, 0.489404231, 0.691804051, 0.413969964, 0.519473255, 0.564342856, 0.633842707, 0.93634969, 0.754849672, 0.0587390102, 0.122452386, 0.78903681, 0.787974954, 0.189163744, 0.0767952353, 0.86275351, 0.868375778, 0.939123, 0.560882, 0.856187642, 0.0340241529, 0.0606686175, 0.601249874, 0.58119148, 0.157848507, 0.438099295, 0.401720196, 0.0198415443, 0.884857059, 0.540589392, 0.148362696, 0.403219432, 0.0743933916, 0.247849196, 0.157948494, 0.12882714, 0.0608767, 0.320238978, 0.320654064, 0.479600787, 0.258292556, 0.936310768, 0.181899607, 0.0421438627, 0.737888336, 0.0012005961, 0.432099223, 0.00965331122, 0.264312, 0.627079606, 0.0561440252, 0.419871122, 0.0786868408, 0.259409904, 0.315141231, 0.495092034, 0.570698142, 0.482958, 0.87020576, 0.991014063, 0.56582, 0.676024914, 0.780186296, 0.951879859, 0.182725266, 0.564917266, 0.865410089, 0.127512753, 0.938112497, 0.92333132, 0.338354409, 0.886958599, 0.317060173, 0.638635099, 0.0235468578, 0.3166807, 0.698274136, 0.134569556, 0.739337683, 0.0785480812, 0.310744315, 0.322107345, 0.925454617, 0.891314805, 0.363135964, 0.808725715, 0.0898712, 0.510482669, 0.0890385956, 0.361362249, 0.470409334, 0.713297963, 0.204265311, 0.189302623, 0.658667445, 0.935896873, 0.177288428, 0.0277119894, 0.685000598, 0.705213308, 0.391698927, 0.437020272, 0.996533453, 0.835901856, 0.164621145, 0.972483, 0.633613884, 0.372084796, 0.662190199, 0.260606319, 0.365880311, 0.395721734, 0.366810769, 0.520281732, 0.727745533, 0.55406177, 0.979929388, 0.236097723, 0.653105497, 0.967089057, 0.633306265, 0.59965533, 0.547364116, 0.34678185, 0.410966277, 0.696236551, 0.620594382, 0.0374610834, 0.917497635, 0.653183103, 0.942252, 0.508186281, 0.151637629, 0.368270785, 0.719134867, 0.379392266, 0.156084031, 0.0794526413, 0.990115821, 0.353782952, 0.276765317, 0.178027049, 0.110713854, 0.23898077, 0.262745976, 0.918988526, 0.0880211294, 0.8217, 0.604120553, 0.851768851, 0.569711089, 0.801289499, 0.91003561, 0.962135, 0.307594866, 0.852647245, 0.57759881, 0.850457132, 0.0236015711, 0.151977167, 0.870619833, 0.493537754, 0.366919875, 0.956634283, 0.0890738219, 0.568952918, 0.448720485, 0.359230578, 0.858454168, 0.471427202, 0.125906602, 0.543978035, 0.628479838, 0.142519623, 0.900678873, 0.55094552, 0.832653582, 0.925612867, 0.630614102, 0.195995763, 0.70129317, 0.854945958, 0.291734427, 0.000740237127, 0.98947, 0.430139065, 0.183339119, 0.90943259, 0.928564548, 0.91862005, 0.906184614, 0.457017601, 0.754854083, 0.534495175, 0.342666417, 0.763713598, 0.0789573044, 0.0340832807, 0.643538, 0.540557504, 0.709884405, 0.0461311601, 0.634986043, 0.0225459579, 0.796011, 0.306876, 0.25286153, 0.217413172, 0.159672737, 0.526105583, 0.223775625, 0.962702036, 0.449446529, 0.259032756, 0.372729957, 0.266150802, 0.610582709, 0.298054427, 0.00149948453, 0.787239969, 0.574276924, 0.781199, 0.435855627, 0.980345, 0.14062354, 0.687355399, 0.758172, 0.684593141, 0.943034589, 0.270911366, 0.57410872, 0.287146121, 0.0642614588, 0.79752171, 0.734113395, 0.197832167, 0.0296823829, 0.922905207, 0.682770073, 0.235563129, 0.967332363, 0.718084455, 0.641397536, 0.500782073, 0.0250518844, 0.0724616, 0.129487857, 0.608980417, 0.796165586, 0.608974338, 0.0257796105, 0.146742195, 0.415627509, 0.976675093, 0.570274949, 0.692240894, 0.678715169, 0.753531039, 0.810076475, 0.185762271, 0.896206141, 0.948872745, 0.0978631675, 0.963319838, 0.787909865, 0.200767741, 0.973679483, 0.361804426, 0.407717526, 0.217073947, 0.704010546, 0.254342, 0.919069111, 0.815921426, 0.211474448, 0.149038523, 0.765099764, 0.954710186, 0.800141, 0.116584912, 0.710013628, 0.782916605, 0.338156611, 0.848677158, 0.889029682, 0.249690041, 0.1685379, 0.162304074, 0.999027848, 0.755309761, 0.291316956, 0.356381625, 0.0375759974, 0.200621471, 0.571336806, 0.820994437, 0.270613819, 0.706365168, 0.895861745, 0.157787353, 0.18730022, 0.956434786, 0.545369565, 0.44870609, 0.661382556, 0.491874, 0.494675785, 0.41439867, 0.54573226, 0.568763077, 0.527942, 0.227237701, 0.75848645, 0.55992645, 0.916767597, 0.536170602, 0.611465335, 0.700522959, 0.0816261247, 0.663951576, 0.038007617, 0.677761555, 0.59297353, 0.840371728, 0.865288496, 0.24683702, 0.314922184, 0.963882744, 0.416055053, 0.897963047, 0.982793748, 0.153268158, 0.968562603, 0.979279578, 0.38230142, 0.771330118, 0.527504623, 0.195920736, 0.373048693, 0.958530188, 0.122661896, 0.928452253, 0.504890323, 0.818828344, 0.0836268216, 0.469559819, 0.823434591, 0.66476047, 0.81167, 0.112209581, 0.16003485, 0.172155276, 0.00394405657, 0.285709798, 0.804973423, 0.0859719589, 0.514138162, 0.905805647, 0.744003296, 0.33804056, 0.551317, 0.628684402, 0.0837196633, 0.280226529, 0.857326269, 0.304574668, 0.269614786, 0.359845251, 0.733961, 0.980038762, 0.424389392, 0.231898278, 0.0542128123, 0.587029576, 0.946317255, 0.264824718, 0.021595154, 0.867468715, 0.422499508, 0.141077325, 0.004333233, 0.980972171, 0.081374459, 0.34226492, 0.161795259, 0.80661273, 0.405787617, 0.460638195, 0.727030754, 0.453950793, 0.478648335, 0.217020139, 0.973773897, 0.951278269, 0.579404652, 0.980822206, 0.278310031, 0.0198085289, 0.964654326, 0.399123162, 0.430810928, 0.959939182, 0.791156, 0.854606748, 0.153703853, 0.322140574, 0.82955116, 0.737645328, 0.333732396, 0.503971815, 0.618645728, 0.0597341098, 0.143887341, 0.367650628, 0.428052664, 0.309449643, 0.716422081, 0.320683867, 0.160706311, 0.0709195808, 0.130216151, 0.716536522, 0.0921831876, 0.512475431, 0.885464966, 0.177763313, 0.711716175, 0.461810529, 0.522890747, 0.533511937, 0.288250387, 0.42383635, 0.0126105566, 0.179131031, 0.231024742, 0.930820465, 0.824449658, 0.512688518, 0.565485299, 0.0974649787, 0.925866663, 0.121847719, 0.765261292, 0.499988526, 0.0887445286, 0.282744586, 0.642675221, 0.354088068, 0.598456383, 0.806052566, 0.687283516, 0.0988151282, 0.955376327, 0.176515222, 0.0415401869, 0.700295687, 0.334703773, 0.824891925, 0.020076653, 0.240871415, 0.381094813, 0.61150533, 0.223581135, 0.184118211, 0.877826333, 0.193525448, 0.431397617, 0.476020485, 0.399420202, 0.0962899774, 0.303759873, 0.742741823, 0.43272388, 0.425207108, 0.0365487412, 0.194325745, 0.722822, 0.47882992, 0.847024739, 0.22045809, 0.805992603, 0.190523654, 0.563170075, 0.18915455, 0.69627732, 0.323289335, 0.453650355, 0.119097516, 0.727450907, 0.207442909, 0.435534477, 0.979597628, 0.30639413, 0.318875849, 0.169174418, 0.652737439, 0.501918554, 0.513511956, 0.113354266, 0.266661972, 0.821298361, 0.862761199, 0.559947729, 0.65730989, 0.519318342, 0.434023529, 0.701487601, 0.877867937, 0.35952726, 0.880727, 0.386877686, 0.754936337, 0.26617983, 0.9137128, 0.844415069, 0.70194155, 0.0493339, 0.920898914, 0.433387935, 0.281032264, 0.61801, 0.373449892, 0.494524479, 0.379504502, 0.192465127, 0.264874041, 0.784047067, 0.27698943, 0.494080603, 0.87709, 0.038770631, 0.967763662, 0.751010716, 0.5958395, 0.182493985, 0.552325189, 0.0133898593, 0.350383103, 0.215613738, 0.850339472, 0.187474132, 0.999375, 0.305097908, 0.731881082, 0.366815269, 0.738394499, 0.0397735946, 0.486276656, 0.60466069, 0.533703446, 0.106967732, 0.906053424, 0.423789203, 0.729010463, 0.261207432, 0.327377617, 0.581954956, 0.639521718, 0.865473628, 0.836373568, 0.0258567315, 0.349464118, 0.324095, 0.992168367, 0.74799037, 0.890024185, 0.41267103, 0.840696216, 0.605645895, 0.429610252, 0.12985523, 0.493012488, 0.20300743, 0.664796352, 0.572604477, 0.989640534, 0.998209119, 0.620279491, 0.430320799, 0.86455667, 0.443548352, 0.4723607, 0.835792959, 0.914239347, 0.999032199, 0.810353518, 0.63219136, 0.572931886, 0.759885788, 0.241527602, 0.46234569, 0.739952803, 0.8310408, 0.615646422, 0.486623138, 0.365008891, 0.0533178858, 0.610937953, 0.732969463, 0.649048269, 0.698258162, 0.40103063, 0.180088177, 0.141354457, 0.979492366, 0.56052345, 0.742517233, 0.153497264, 0.339547813, 0.278958678, 0.273839086, 0.0826433524, 0.861772478, 0.0445977449, 0.942747176, 0.144820288, 0.0994274542, 0.248958051, 0.034271881, 0.185710937, 0.411160737, 0.508797467, 0.122074366, 0.783031583, 0.604815304, 0.876606464, 0.445298761, 0.410774052, 0.428375304, 0.666856349, 0.550563037, 0.46973893, 0.0881525949, 0.868303418, 0.998929322, 0.774061918, 0.439700484, 0.783201575, 0.787164, 0.085330382, 0.255222917, 0.425093591, 0.493558854, 0.871482909, 0.787213802, 0.322661877, 0.346473217, 0.157965139, 0.524386466, 0.910108626, 0.30189383, 0.33193621, 0.620685935, 0.114672109, 0.506356, 0.906344891, 0.589629, 0.430562705, 0.116541855, 0.989925206, 0.601358771, 0.506119072, 0.353376478, 0.315986872, 0.944412827, 0.16799517, 0.199852154, 0.711437821, 0.539417, 0.953601241, 0.294888914, 0.372098833, 0.431567103, 0.806897, 0.396029949, 0.59893465, 0.41928795, 0.7788167, 0.0670644119, 0.253733397, 0.0597271025, 0.451054394, 0.741879404, 0.389767, 0.371799797, 0.388889074, 0.51579833, 0.0051748883, 0.108062088, 0.00950236153, 0.21245873, 0.139203712, 0.259580672, 0.741023779, 0.154766157, 0.53495, 0.415834397, 0.884208679, 0.98643446, 0.538869739, 0.429924816, 0.37226209, 0.321773231, 0.179215357, 0.388679326, 0.485901386, 0.972917318, 0.746537149, 0.164826, 0.0684529766, 0.896136284, 0.0858197659, 0.97841984, 0.880790174, 0.663759649, 0.8284989, 0.858361423, 0.291041225, 0.649071276, 0.197317332, 0.0783322379, 0.865630031, 0.65446353, 0.933955431, 0.83213371, 0.979736745, 0.18044728, 0.465313405, 0.86392349, 0.45206809, 0.5542804, 0.863625824, 0.801625729, 0.218022749, 0.560462832, 0.574510515, 0.381678015, 0.766966462, 0.742942691, 0.448190868, 0.0354283974, 0.480252147, 0.129601046, 0.538057, 0.944096684, 0.856726229, 0.881782234, 0.133561313, 0.398826629, 0.225002035, 0.134920672, 0.275812835, 0.581351697, 0.142890215, 0.97292316, 0.290130585, 0.891735852, 0.57243216, 0.846538246, 0.908748448, 0.758127451, 0.879681289, 0.646877408, 0.752097487, 0.578450203, 0.875835061, 0.567450285, 0.777002633, 0.90212208, 0.115652017, 0.254953325, 0.373159528, 0.207945719, 0.617352, 0.958126664, 0.765840113, 0.318553358, 0.817190528, 0.722371757, 0.173147097, 0.742210627, 0.593848526, 0.0509372242, 0.887049437, 0.161058322, 0.0256347954, 0.914423525, 0.243719339, 0.504443944, 0.383345276, 0.234816715, 0.267639965, 0.0928051248, 0.898677289, 0.516453862, 0.936879635, 0.107444324, 0.86943388, 0.973908, 0.697586834, 0.367679715, 0.467792481, 0.723216534, 0.424770355, 0.854237556, 0.313908458, 0.143110052, 0.868793428, 0.285103709, 0.369089782, 0.438637644, 0.00214338209, 0.247560039, 0.616690218, 0.410820842, 0.546775222, 0.982194781, 0.945278883, 0.729629099, 0.308285743, 0.317989379, 0.998247147, 0.93298924, 0.582662642, 0.414673, 0.183567762, 0.870005071, 0.0438994616, 0.689163268, 0.920697927, 0.365723729, 0.074220717, 0.273020536, 0.491377026, 0.505673766, 0.459783614, 0.98672241, 0.659383953, 0.177620441, 0.00945590157, 0.972815096, 0.200066835, 0.846354485, 0.904386222, 0.902494967, 0.236607373, 0.834034264, 0.413966835, 0.524317086, 0.0136717623, 0.603077114, 0.926864922, 0.154021695, 0.936275721, 0.694740355, 0.718811035, 0.305616617, 0.0469114706, 0.745580733, 0.371725351, 0.0690916181, 0.530229092, 0.151312724, 0.120569803, 0.135068208, 0.705297768, 0.596906364, 0.950451076, 0.0288247243, 0.0691122115, 0.928685, 0.491818309, 0.197098896, 0.157012254, 0.154607683, 0.80202651, 0.697127938, 0.898726046, 0.0995621, 0.323854566, 0.0210146084, 0.143259987, 0.701289952, 0.353492379, 0.338139445, 0.797645032, 0.22155185, 0.0209971629, 0.0168307852, 0.866353452, 0.91590035, 0.331416816, 0.912399352, 0.00874445774, 0.453618824, 0.239746258, 0.979243875, 0.620250046, 0.699928045, 0.599119186, 0.702520728, 0.987298906, 0.227811471, 0.681267917, 0.184432834, 0.708699882, 0.162602097, 0.76429671, 0.18638064, 0.0739659294, 0.35172224, 0.266830862, 0.756976604, 0.869581938, 0.845811903, 0.28182286, 0.371784657, 0.750192404, 0.236609638, 0.380624622, 0.791240394, 0.402858973, 0.825101674, 0.0537788756, 0.335580438, 0.445106804, 0.532861054, 0.34041, 0.391231865, 0.786092758, 0.491056412, 0.140215069, 0.0179108754, 0.912067413, 0.995336354, 0.400396138, 0.704182625, 0.512107611, 0.740259171, 0.340853214, 0.870028377, 0.542662144, 0.761794031, 0.61910522, 0.209583923, 0.936482251, 0.534453511, 0.81150949, 0.734409451, 0.769195735, 0.135174662, 0.769993186, 0.250363052, 0.361992121, 0.997544646, 0.678970218, 0.530007124, 0.70574832, 0.903471768, 0.803202689, 0.848008454, 0.0690513924, 0.464996219, 0.674433768, 0.738650084, 0.0630500913, 0.630217969, 0.664486647, 0.1114121, 0.4359954, 0.257298976, 0.87258029, 0.833081603, 0.643286347, 0.747522414, 0.11686793, 0.764221787, 0.208667934, 0.377722055, 0.556362271, 0.137345776, 0.396279067, 0.538134217, 0.929055452, 0.605593264, 0.279474288, 0.177805409, 0.386996508, 0.903223455, 0.634095609, 0.00011393155, 0.763297796, 0.104875922, 0.234106973, 0.637464046, 0.736893892, 0.510879636, 0.739408, 0.117260866, 0.884735525, 0.166229144, 0.352777481, 0.636164248, 0.868635714, 0.800107896, 0.293178737, 0.485781878, 0.895566, 0.903255105, 0.342858016, 0.243951634, 0.511159718, 0.341973871, 0.51554203, 0.468330652, 0.97816813, 0.0204284675, 0.730292797, 0.424512535, 0.21102564, 0.673629105, 0.967987, 0.765062451, 0.892104149, 0.357658356, 0.0102952449, 0.390552759, 0.589381039, 0.591487706, 0.112030201, 0.0169735197, 0.907421589, 0.45307973, 0.6677683, 0.719906569, 0.0891710743, 0.801690221, 0.872734189, 0.809853613, 0.155804351, 0.793455958, 0.943057895, 0.63302356, 0.641481757, 0.0137381153, 0.621100485, 0.999554098, 0.559185, 0.316045195, 0.26442048, 0.24414213, 0.4504821, 0.338025242, 0.558952868, 0.000958932, 0.632401347, 0.74334234, 0.597151518, 0.0110087302, 0.851944089, 0.850272477, 0.85898149, 0.0175420288, 0.187050968, 0.253685117, 0.68912375, 0.917576075, 0.263967574, 0.557225049, 0.12438722, 0.252102703, 0.974066675, 0.257886261, 0.922435164, 0.130384013, 0.261954635, 0.903038144, 0.216659456, 0.841974735, 0.258006781, 0.697198629, 0.189397246, 0.772649407, 0.893441737, 0.198617488, 0.204870924, 0.115504868, 0.245322078, 0.438625753, 0.997341394, 0.267451495, 0.529810131, 0.623343527, 0.66324681, 0.112654105, 0.445696235, 0.585203409, 0.894226372, 0.671801448, 0.747364223, 0.169522986, 0.0681641921, 0.916602552, 0.765053928, 0.446458608, 0.694034517, 0.380808055, 0.933137059, 0.463580072, 0.616363347, 0.738046587, 0.60682261, 0.389556497, 0.533225834, 0.791130781, 0.928212702, 0.971224725, 0.220390663, 0.398018062, 0.312513292, 0.51249814, 0.765152097, 0.113417745, 0.108538702, 0.851765156, 0.802228153, 0.507144809, 0.903205216, 0.150332198, 0.839352727, 0.328802049, 0.195011303, 0.681360066, 0.805640757, 0.549141109, 0.899647, 0.0110500082, 0.976728618, 0.648916721, 0.480909109, 0.461393178, 0.734211624, 0.987854183, 0.491705924, 0.627151966, 0.440314591, 0.666918397, 0.89036423, 0.39221552, 0.97169292, 0.94514811, 0.0652973503, 0.836052656, 0.413312256, 0.599234879, 0.818091, 0.818044782, 0.729545712, 0.821808934, 0.600117445, 0.688594639, 0.574761212, 0.969051421, 0.147376671, 0.250539124, 0.239977255, 0.981639147, 0.277853489, 0.931483805, 0.114134207, 0.359556615, 0.203350917, 0.91497612, 0.366108239, 0.95554471, 0.790806413, 0.664589524, 0.25869754, 0.328414857, 0.68605, 0.358339757, 0.346650809, 0.552689314, 0.853995, 0.647581637, 0.163467139, 0.120226867, 0.247314155, 0.3121216, 0.628875613, 0.824017942, 0.871986568, 0.965123892, 0.870517612, 0.248137146, 0.121384852, 0.173888445, 0.688903272, 0.942481816, 0.339253545, 0.12891604, 0.901253, 0.149183556, 0.830842733, 0.836205363, 0.873565555, 0.372513443, 0.997739613, 0.270771056, 0.423782647, 0.880065262, 0.600121617, 0.35667178, 0.129049748, 0.495091856, 0.747264266, 0.330928177, 0.422958195, 0.145244703, 0.246470436, 0.253821969, 0.71243614, 0.735668421, 0.860528111, 0.659525335, 0.16937311, 0.315595, 0.55455184, 0.264016449, 0.525926113, 0.643871546, 0.885806561, 0.399299175, 0.8311252, 0.269126475, 0.265915841, 0.765297651, 0.0765714422, 0.610313416, 0.138734356, 0.620520115, 0.875693917, 0.0752791, 0.0566047616, 0.355350286, 0.13766627, 0.137340397, 0.679958105, 0.122703768, 0.780013442, 0.571658, 0.448465794, 0.343921393, 0.555851221, 0.0722382888, 0.422749102, 0.0252472255, 0.30658, 0.430279344, 0.51910764, 0.59703356, 0.67986536, 0.275375128, 0.571408, 0.442489684, 0.955856085, 0.300257713, 0.270732343, 0.0832357854, 0.719150782, 0.704736769, 0.836634398, 0.49993363, 0.756163895, 0.438935399, 0.0380299687, 0.463372439, 0.495200843, 0.191960841, 0.937267482, 0.505349517, 0.995346248, 0.140500411, 0.156970888, 0.143163592, 0.497563809, 0.124291793, 0.620559692, 0.615029097, 0.030343499, 0.539398313, 0.800951421, 0.0943611786, 0.52244556, 0.0258344784, 0.846971214, 0.154928535, 0.406192929, 0.222595066, 0.143502846, 0.013972545, 0.99501276, 0.498485625, 0.261885554, 0.404482514, 0.0328468494, 0.917190492, 0.256724596, 0.161966085, 0.192030042, 0.929799199, 0.575109184, 0.554863], metadata=None, sparse_values=None)}, usage={'read_units': 1})"
      ]
     },
     "execution_count": 26,
     "metadata": {},
     "output_type": "execute_result"
    }
   ],
   "source": [
    "# This will work because we specify the namespace\n",
    "index.fetch(ids=['x'], namespace=\"test-namespace\")"
   ]
  },
  {
   "cell_type": "code",
   "execution_count": 28,
   "id": "62f2d6c7",
   "metadata": {},
   "outputs": [
    {
     "data": {
      "text/plain": [
       "{}"
      ]
     },
     "execution_count": 28,
     "metadata": {},
     "output_type": "execute_result"
    }
   ],
   "source": [
    "# This also applies when deleting vectors\n",
    "index.delete(ids=['x'], namespace=\"test-namespace\")"
   ]
  },
  {
   "cell_type": "code",
   "execution_count": 33,
   "id": "0588210c",
   "metadata": {},
   "outputs": [
    {
     "data": {
      "text/plain": [
       "{}"
      ]
     },
     "execution_count": 33,
     "metadata": {},
     "output_type": "execute_result"
    }
   ],
   "source": [
    "# To delete all vectors in a namespace and the namespace itself\n",
    "index.delete(delete_all=True, namespace=\"test-namespace-2\")"
   ]
  },
  {
   "cell_type": "code",
   "execution_count": 34,
   "id": "1aeb5a01",
   "metadata": {},
   "outputs": [
    {
     "data": {
      "text/plain": [
       "{'dimension': 1536,\n",
       " 'index_fullness': 0.0,\n",
       " 'metric': 'cosine',\n",
       " 'namespaces': {'': {'vector_count': 5}, 'test-namespace': {'vector_count': 2}},\n",
       " 'total_vector_count': 7,\n",
       " 'vector_type': 'dense'}"
      ]
     },
     "execution_count": 34,
     "metadata": {},
     "output_type": "execute_result"
    }
   ],
   "source": [
    "index.describe_index_stats()"
   ]
  },
  {
   "cell_type": "code",
   "execution_count": null,
   "id": "98c13460",
   "metadata": {},
   "outputs": [],
   "source": []
  }
 ],
 "metadata": {
  "kernelspec": {
   "display_name": "qavenv",
   "language": "python",
   "name": "python3"
  },
  "language_info": {
   "codemirror_mode": {
    "name": "ipython",
    "version": 3
   },
   "file_extension": ".py",
   "mimetype": "text/x-python",
   "name": "python",
   "nbconvert_exporter": "python",
   "pygments_lexer": "ipython3",
   "version": "3.13.5"
  }
 },
 "nbformat": 4,
 "nbformat_minor": 5
}
